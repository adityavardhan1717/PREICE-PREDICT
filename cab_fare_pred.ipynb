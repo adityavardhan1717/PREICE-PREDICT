{
  "nbformat": 4,
  "nbformat_minor": 0,
  "metadata": {
    "colab": {
      "name": "cab_fare_pred.ipynb",
      "provenance": [],
      "collapsed_sections": [],
      "authorship_tag": "ABX9TyPUdMTbfsZiAWmyVnz7EPXZ",
      "include_colab_link": true
    },
    "kernelspec": {
      "name": "python3",
      "display_name": "Python 3"
    }
  },
  "cells": [
    {
      "cell_type": "markdown",
      "metadata": {
        "id": "view-in-github",
        "colab_type": "text"
      },
      "source": [
        "<a href=\"https://colab.research.google.com/github/mittajithendra/Cab-fare-prediction/blob/master/cab_fare_pred.ipynb\" target=\"_parent\"><img src=\"https://colab.research.google.com/assets/colab-badge.svg\" alt=\"Open In Colab\"/></a>"
      ]
    },
    {
      "cell_type": "markdown",
      "metadata": {
        "id": "YOzw1G4EXTrA",
        "colab_type": "text"
      },
      "source": [
        "***CAB FARE PREDICTION***\n",
        "# Problem Statement\n",
        "You are a cab rental start-up company. You have successfully run the pilot project and now want to launch your cab service across the country. You have collected thehistorical data from your pilot project and now have a requirement to apply analytics forfare prediction. You need to design a system that predicts the fare amount for a cab ride in the city."
      ]
    },
    {
      "cell_type": "code",
      "metadata": {
        "id": "gRZjEKI8ftOo",
        "colab_type": "code",
        "colab": {}
      },
      "source": [
        "#loading the required libraries\n",
        "import numpy as np\n",
        "import pandas as pd\n",
        "from sklearn.model_selection import train_test_split\n",
        "from sklearn.metrics import accuracy_score\n",
        "from sklearn.tree import DecisionTreeRegressor\n",
        "from sklearn.model_selection import cross_val_score\n",
        "import requests\n",
        "from shapely.geometry import mapping, shape\n",
        "from shapely.prepared import prep\n",
        "from shapely.geometry import Point\n",
        "from geopy.distance import geodesic\n",
        "import matplotlib.pyplot as plt\n",
        "import seaborn as sns\n",
        "from sklearn.linear_model import LinearRegression\n",
        "from sklearn.tree import DecisionTreeRegressor\n",
        "from sklearn.neighbors import KNeighborsRegressor\n",
        "from sklearn.preprocessing import OneHotEncoder,LabelEncoder\n",
        "from sklearn.ensemble import RandomForestRegressor\n",
        "from sklearn.metrics import accuracy_score\n",
        "from sklearn.model_selection import train_test_split\n",
        "from sklearn.model_selection import GridSearchCV\n",
        "from sklearn.metrics import mean_squared_error\n",
        "from sklearn.metrics import r2_score"
      ],
      "execution_count": 0,
      "outputs": []
    },
    {
      "cell_type": "code",
      "metadata": {
        "id": "ZlpHNW92DjfI",
        "colab_type": "code",
        "outputId": "4cf82078-42c1-4d59-be9e-7b92f99d6ece",
        "colab": {
          "base_uri": "https://localhost:8080/",
          "height": 122
        }
      },
      "source": [
        "from google.colab import drive\n",
        "drive.mount('/content/drive')"
      ],
      "execution_count": 3,
      "outputs": [
        {
          "output_type": "stream",
          "text": [
            "Go to this URL in a browser: https://accounts.google.com/o/oauth2/auth?client_id=947318989803-6bn6qk8qdgf4n4g3pfee6491hc0brc4i.apps.googleusercontent.com&redirect_uri=urn%3aietf%3awg%3aoauth%3a2.0%3aoob&response_type=code&scope=email%20https%3a%2f%2fwww.googleapis.com%2fauth%2fdocs.test%20https%3a%2f%2fwww.googleapis.com%2fauth%2fdrive%20https%3a%2f%2fwww.googleapis.com%2fauth%2fdrive.photos.readonly%20https%3a%2f%2fwww.googleapis.com%2fauth%2fpeopleapi.readonly\n",
            "\n",
            "Enter your authorization code:\n",
            "··········\n",
            "Mounted at /content/drive\n"
          ],
          "name": "stdout"
        }
      ]
    },
    {
      "cell_type": "code",
      "metadata": {
        "id": "M0DbYt4_gpWn",
        "colab_type": "code",
        "colab": {}
      },
      "source": [
        "#Load data files\n",
        "data=pd.read_csv(\"/content/drive/My Drive/train_cab.csv\")\n",
        "train=pd.read_csv(\"/content/drive/My Drive/train_cab.csv\")\n",
        "test=pd.read_csv(\"/content/drive/My Drive/test.csv\")"
      ],
      "execution_count": 0,
      "outputs": []
    },
    {
      "cell_type": "code",
      "metadata": {
        "id": "CUuxGC5XDk59",
        "colab_type": "code",
        "outputId": "d181335d-0556-4f45-b9a3-99d6a6c3adeb",
        "colab": {
          "base_uri": "https://localhost:8080/",
          "height": 68
        }
      },
      "source": [
        "#check the number of rows and columns\n",
        "print(data.shape)\n",
        "print(train.shape)\n",
        "print(test.shape)"
      ],
      "execution_count": 5,
      "outputs": [
        {
          "output_type": "stream",
          "text": [
            "(16067, 7)\n",
            "(16067, 7)\n",
            "(9914, 6)\n"
          ],
          "name": "stdout"
        }
      ]
    },
    {
      "cell_type": "code",
      "metadata": {
        "id": "ADZj3i1NFJih",
        "colab_type": "code",
        "outputId": "51ec84b1-2f29-4478-abac-0849b65167e9",
        "colab": {
          "base_uri": "https://localhost:8080/",
          "height": 309
        }
      },
      "source": [
        "#Displays the first 5 rows of the train dataset\n",
        "train.head()"
      ],
      "execution_count": 6,
      "outputs": [
        {
          "output_type": "execute_result",
          "data": {
            "text/html": [
              "<div>\n",
              "<style scoped>\n",
              "    .dataframe tbody tr th:only-of-type {\n",
              "        vertical-align: middle;\n",
              "    }\n",
              "\n",
              "    .dataframe tbody tr th {\n",
              "        vertical-align: top;\n",
              "    }\n",
              "\n",
              "    .dataframe thead th {\n",
              "        text-align: right;\n",
              "    }\n",
              "</style>\n",
              "<table border=\"1\" class=\"dataframe\">\n",
              "  <thead>\n",
              "    <tr style=\"text-align: right;\">\n",
              "      <th></th>\n",
              "      <th>fare_amount</th>\n",
              "      <th>pickup_datetime</th>\n",
              "      <th>pickup_longitude</th>\n",
              "      <th>pickup_latitude</th>\n",
              "      <th>dropoff_longitude</th>\n",
              "      <th>dropoff_latitude</th>\n",
              "      <th>passenger_count</th>\n",
              "    </tr>\n",
              "  </thead>\n",
              "  <tbody>\n",
              "    <tr>\n",
              "      <th>0</th>\n",
              "      <td>4.5</td>\n",
              "      <td>2009-06-15 17:26:21 UTC</td>\n",
              "      <td>-73.844311</td>\n",
              "      <td>40.721319</td>\n",
              "      <td>-73.841610</td>\n",
              "      <td>40.712278</td>\n",
              "      <td>1.0</td>\n",
              "    </tr>\n",
              "    <tr>\n",
              "      <th>1</th>\n",
              "      <td>16.9</td>\n",
              "      <td>2010-01-05 16:52:16 UTC</td>\n",
              "      <td>-74.016048</td>\n",
              "      <td>40.711303</td>\n",
              "      <td>-73.979268</td>\n",
              "      <td>40.782004</td>\n",
              "      <td>1.0</td>\n",
              "    </tr>\n",
              "    <tr>\n",
              "      <th>2</th>\n",
              "      <td>5.7</td>\n",
              "      <td>2011-08-18 00:35:00 UTC</td>\n",
              "      <td>-73.982738</td>\n",
              "      <td>40.761270</td>\n",
              "      <td>-73.991242</td>\n",
              "      <td>40.750562</td>\n",
              "      <td>2.0</td>\n",
              "    </tr>\n",
              "    <tr>\n",
              "      <th>3</th>\n",
              "      <td>7.7</td>\n",
              "      <td>2012-04-21 04:30:42 UTC</td>\n",
              "      <td>-73.987130</td>\n",
              "      <td>40.733143</td>\n",
              "      <td>-73.991567</td>\n",
              "      <td>40.758092</td>\n",
              "      <td>1.0</td>\n",
              "    </tr>\n",
              "    <tr>\n",
              "      <th>4</th>\n",
              "      <td>5.3</td>\n",
              "      <td>2010-03-09 07:51:00 UTC</td>\n",
              "      <td>-73.968095</td>\n",
              "      <td>40.768008</td>\n",
              "      <td>-73.956655</td>\n",
              "      <td>40.783762</td>\n",
              "      <td>1.0</td>\n",
              "    </tr>\n",
              "  </tbody>\n",
              "</table>\n",
              "</div>"
            ],
            "text/plain": [
              "  fare_amount          pickup_datetime  ...  dropoff_latitude  passenger_count\n",
              "0         4.5  2009-06-15 17:26:21 UTC  ...         40.712278              1.0\n",
              "1        16.9  2010-01-05 16:52:16 UTC  ...         40.782004              1.0\n",
              "2         5.7  2011-08-18 00:35:00 UTC  ...         40.750562              2.0\n",
              "3         7.7  2012-04-21 04:30:42 UTC  ...         40.758092              1.0\n",
              "4         5.3  2010-03-09 07:51:00 UTC  ...         40.783762              1.0\n",
              "\n",
              "[5 rows x 7 columns]"
            ]
          },
          "metadata": {
            "tags": []
          },
          "execution_count": 6
        }
      ]
    },
    {
      "cell_type": "code",
      "metadata": {
        "id": "wbDQgIhiFM2l",
        "colab_type": "code",
        "outputId": "d77b9232-60cc-4085-94d1-e3e2197864f0",
        "colab": {
          "base_uri": "https://localhost:8080/",
          "height": 204
        }
      },
      "source": [
        "#displays the first 5 rows of the test dataset\n",
        "test.head()"
      ],
      "execution_count": 7,
      "outputs": [
        {
          "output_type": "execute_result",
          "data": {
            "text/html": [
              "<div>\n",
              "<style scoped>\n",
              "    .dataframe tbody tr th:only-of-type {\n",
              "        vertical-align: middle;\n",
              "    }\n",
              "\n",
              "    .dataframe tbody tr th {\n",
              "        vertical-align: top;\n",
              "    }\n",
              "\n",
              "    .dataframe thead th {\n",
              "        text-align: right;\n",
              "    }\n",
              "</style>\n",
              "<table border=\"1\" class=\"dataframe\">\n",
              "  <thead>\n",
              "    <tr style=\"text-align: right;\">\n",
              "      <th></th>\n",
              "      <th>pickup_datetime</th>\n",
              "      <th>pickup_longitude</th>\n",
              "      <th>pickup_latitude</th>\n",
              "      <th>dropoff_longitude</th>\n",
              "      <th>dropoff_latitude</th>\n",
              "      <th>passenger_count</th>\n",
              "    </tr>\n",
              "  </thead>\n",
              "  <tbody>\n",
              "    <tr>\n",
              "      <th>0</th>\n",
              "      <td>2015-01-27 13:08:24 UTC</td>\n",
              "      <td>-73.973320</td>\n",
              "      <td>40.763805</td>\n",
              "      <td>-73.981430</td>\n",
              "      <td>40.743835</td>\n",
              "      <td>1</td>\n",
              "    </tr>\n",
              "    <tr>\n",
              "      <th>1</th>\n",
              "      <td>2015-01-27 13:08:24 UTC</td>\n",
              "      <td>-73.986862</td>\n",
              "      <td>40.719383</td>\n",
              "      <td>-73.998886</td>\n",
              "      <td>40.739201</td>\n",
              "      <td>1</td>\n",
              "    </tr>\n",
              "    <tr>\n",
              "      <th>2</th>\n",
              "      <td>2011-10-08 11:53:44 UTC</td>\n",
              "      <td>-73.982524</td>\n",
              "      <td>40.751260</td>\n",
              "      <td>-73.979654</td>\n",
              "      <td>40.746139</td>\n",
              "      <td>1</td>\n",
              "    </tr>\n",
              "    <tr>\n",
              "      <th>3</th>\n",
              "      <td>2012-12-01 21:12:12 UTC</td>\n",
              "      <td>-73.981160</td>\n",
              "      <td>40.767807</td>\n",
              "      <td>-73.990448</td>\n",
              "      <td>40.751635</td>\n",
              "      <td>1</td>\n",
              "    </tr>\n",
              "    <tr>\n",
              "      <th>4</th>\n",
              "      <td>2012-12-01 21:12:12 UTC</td>\n",
              "      <td>-73.966046</td>\n",
              "      <td>40.789775</td>\n",
              "      <td>-73.988565</td>\n",
              "      <td>40.744427</td>\n",
              "      <td>1</td>\n",
              "    </tr>\n",
              "  </tbody>\n",
              "</table>\n",
              "</div>"
            ],
            "text/plain": [
              "           pickup_datetime  pickup_longitude  ...  dropoff_latitude  passenger_count\n",
              "0  2015-01-27 13:08:24 UTC        -73.973320  ...         40.743835                1\n",
              "1  2015-01-27 13:08:24 UTC        -73.986862  ...         40.739201                1\n",
              "2  2011-10-08 11:53:44 UTC        -73.982524  ...         40.746139                1\n",
              "3  2012-12-01 21:12:12 UTC        -73.981160  ...         40.751635                1\n",
              "4  2012-12-01 21:12:12 UTC        -73.966046  ...         40.744427                1\n",
              "\n",
              "[5 rows x 6 columns]"
            ]
          },
          "metadata": {
            "tags": []
          },
          "execution_count": 7
        }
      ]
    },
    {
      "cell_type": "code",
      "metadata": {
        "id": "BN5jIWbdFOPY",
        "colab_type": "code",
        "outputId": "b9f068ad-1007-4292-9080-0b4a314341c2",
        "colab": {
          "base_uri": "https://localhost:8080/",
          "height": 153
        }
      },
      "source": [
        "train.dtypes"
      ],
      "execution_count": 8,
      "outputs": [
        {
          "output_type": "execute_result",
          "data": {
            "text/plain": [
              "fare_amount           object\n",
              "pickup_datetime       object\n",
              "pickup_longitude     float64\n",
              "pickup_latitude      float64\n",
              "dropoff_longitude    float64\n",
              "dropoff_latitude     float64\n",
              "passenger_count      float64\n",
              "dtype: object"
            ]
          },
          "metadata": {
            "tags": []
          },
          "execution_count": 8
        }
      ]
    },
    {
      "cell_type": "code",
      "metadata": {
        "id": "5GsyA_BZGHia",
        "colab_type": "code",
        "outputId": "3b30692b-dc5c-4499-f846-1f0917d70d36",
        "colab": {
          "base_uri": "https://localhost:8080/",
          "height": 153
        }
      },
      "source": [
        "#Total number of missing values in each column\n",
        "train.isna().sum()"
      ],
      "execution_count": 9,
      "outputs": [
        {
          "output_type": "execute_result",
          "data": {
            "text/plain": [
              "fare_amount          24\n",
              "pickup_datetime       0\n",
              "pickup_longitude      0\n",
              "pickup_latitude       0\n",
              "dropoff_longitude     0\n",
              "dropoff_latitude      0\n",
              "passenger_count      55\n",
              "dtype: int64"
            ]
          },
          "metadata": {
            "tags": []
          },
          "execution_count": 9
        }
      ]
    },
    {
      "cell_type": "markdown",
      "metadata": {
        "id": "i_TIXR4AfLiW",
        "colab_type": "text"
      },
      "source": [
        "# **Data Cleaning and Missing value Analysis**\n"
      ]
    },
    {
      "cell_type": "code",
      "metadata": {
        "id": "NziWkZCIFl2W",
        "colab_type": "code",
        "colab": {}
      },
      "source": [
        "#fare_amount is in object form convert into integer format\n",
        "train['fare_amount']=pd.to_numeric(train['fare_amount'],errors=\"coerce\")"
      ],
      "execution_count": 0,
      "outputs": []
    },
    {
      "cell_type": "code",
      "metadata": {
        "id": "1IqO0seUG-2J",
        "colab_type": "code",
        "outputId": "17127391-7c01-41ad-e5a7-fd79ca768317",
        "colab": {
          "base_uri": "https://localhost:8080/",
          "height": 153
        }
      },
      "source": [
        "#After converting fare amount into integer type one extra null value is added here.Before converting into integer\n",
        "#fare_amount column has 24 null values now there are 25 null values\n",
        "train.isna().sum()"
      ],
      "execution_count": 11,
      "outputs": [
        {
          "output_type": "execute_result",
          "data": {
            "text/plain": [
              "fare_amount          25\n",
              "pickup_datetime       0\n",
              "pickup_longitude      0\n",
              "pickup_latitude       0\n",
              "dropoff_longitude     0\n",
              "dropoff_latitude      0\n",
              "passenger_count      55\n",
              "dtype: int64"
            ]
          },
          "metadata": {
            "tags": []
          },
          "execution_count": 11
        }
      ]
    },
    {
      "cell_type": "code",
      "metadata": {
        "id": "M1k_lKwaGEYu",
        "colab_type": "code",
        "outputId": "1d5ae7c5-7e59-4ae1-f601-d5771f169c3b",
        "colab": {
          "base_uri": "https://localhost:8080/",
          "height": 153
        }
      },
      "source": [
        "#extra null value is due to the index location 1123 here fare amount value is 430- . so make it 430 and assign\n",
        "data.iloc[1123]"
      ],
      "execution_count": 12,
      "outputs": [
        {
          "output_type": "execute_result",
          "data": {
            "text/plain": [
              "fare_amount                             430-\n",
              "pickup_datetime      2009-09-22 19:01:01 UTC\n",
              "pickup_longitude                    -73.9796\n",
              "pickup_latitude                      40.7713\n",
              "dropoff_longitude                   -73.9758\n",
              "dropoff_latitude                      40.782\n",
              "passenger_count                            1\n",
              "Name: 1123, dtype: object"
            ]
          },
          "metadata": {
            "tags": []
          },
          "execution_count": 12
        }
      ]
    },
    {
      "cell_type": "code",
      "metadata": {
        "id": "Q634syqnIBr-",
        "colab_type": "code",
        "colab": {}
      },
      "source": [
        "#assign 430 to there location\n",
        "train.iloc[1123,0]=430"
      ],
      "execution_count": 0,
      "outputs": []
    },
    {
      "cell_type": "code",
      "metadata": {
        "id": "GLsjFhQSIMSq",
        "colab_type": "code",
        "outputId": "5c2b9adc-7b84-4845-8caa-0581a29aa8c5",
        "colab": {
          "base_uri": "https://localhost:8080/",
          "height": 153
        }
      },
      "source": [
        "train.isna().sum()"
      ],
      "execution_count": 14,
      "outputs": [
        {
          "output_type": "execute_result",
          "data": {
            "text/plain": [
              "fare_amount          24\n",
              "pickup_datetime       0\n",
              "pickup_longitude      0\n",
              "pickup_latitude       0\n",
              "dropoff_longitude     0\n",
              "dropoff_latitude      0\n",
              "passenger_count      55\n",
              "dtype: int64"
            ]
          },
          "metadata": {
            "tags": []
          },
          "execution_count": 14
        }
      ]
    },
    {
      "cell_type": "code",
      "metadata": {
        "id": "aMLs5jMlFxE3",
        "colab_type": "code",
        "colab": {}
      },
      "source": [
        "#pickup_datetime column is in object convert into datetime format \n",
        "train['pickup_datetime']=pd.to_datetime(train[\"pickup_datetime\"],errors=\"coerce\")"
      ],
      "execution_count": 0,
      "outputs": []
    },
    {
      "cell_type": "code",
      "metadata": {
        "id": "FTrecEwKIxgC",
        "colab_type": "code",
        "outputId": "8b6e8050-93fa-4539-dee4-420ae77045e9",
        "colab": {
          "base_uri": "https://localhost:8080/",
          "height": 153
        }
      },
      "source": [
        "#now one null value is added in pickup_datetime column by observation\n",
        "train.isna().sum()"
      ],
      "execution_count": 16,
      "outputs": [
        {
          "output_type": "execute_result",
          "data": {
            "text/plain": [
              "fare_amount          24\n",
              "pickup_datetime       1\n",
              "pickup_longitude      0\n",
              "pickup_latitude       0\n",
              "dropoff_longitude     0\n",
              "dropoff_latitude      0\n",
              "passenger_count      55\n",
              "dtype: int64"
            ]
          },
          "metadata": {
            "tags": []
          },
          "execution_count": 16
        }
      ]
    },
    {
      "cell_type": "code",
      "metadata": {
        "id": "1k-oTmQ-IZmL",
        "colab_type": "code",
        "outputId": "a7233fa9-6866-4bbc-c270-9624aaccbf87",
        "colab": {
          "base_uri": "https://localhost:8080/",
          "height": 100
        }
      },
      "source": [
        "#finding the row which has null value in pickup_datetime\n",
        "train[train['pickup_datetime'].isna()]"
      ],
      "execution_count": 17,
      "outputs": [
        {
          "output_type": "execute_result",
          "data": {
            "text/html": [
              "<div>\n",
              "<style scoped>\n",
              "    .dataframe tbody tr th:only-of-type {\n",
              "        vertical-align: middle;\n",
              "    }\n",
              "\n",
              "    .dataframe tbody tr th {\n",
              "        vertical-align: top;\n",
              "    }\n",
              "\n",
              "    .dataframe thead th {\n",
              "        text-align: right;\n",
              "    }\n",
              "</style>\n",
              "<table border=\"1\" class=\"dataframe\">\n",
              "  <thead>\n",
              "    <tr style=\"text-align: right;\">\n",
              "      <th></th>\n",
              "      <th>fare_amount</th>\n",
              "      <th>pickup_datetime</th>\n",
              "      <th>pickup_longitude</th>\n",
              "      <th>pickup_latitude</th>\n",
              "      <th>dropoff_longitude</th>\n",
              "      <th>dropoff_latitude</th>\n",
              "      <th>passenger_count</th>\n",
              "    </tr>\n",
              "  </thead>\n",
              "  <tbody>\n",
              "    <tr>\n",
              "      <th>1327</th>\n",
              "      <td>11.5</td>\n",
              "      <td>NaT</td>\n",
              "      <td>-73.981947</td>\n",
              "      <td>40.7282</td>\n",
              "      <td>-73.988582</td>\n",
              "      <td>40.759202</td>\n",
              "      <td>1.0</td>\n",
              "    </tr>\n",
              "  </tbody>\n",
              "</table>\n",
              "</div>"
            ],
            "text/plain": [
              "      fare_amount pickup_datetime  ...  dropoff_latitude  passenger_count\n",
              "1327         11.5             NaT  ...         40.759202              1.0\n",
              "\n",
              "[1 rows x 7 columns]"
            ]
          },
          "metadata": {
            "tags": []
          },
          "execution_count": 17
        }
      ]
    },
    {
      "cell_type": "code",
      "metadata": {
        "id": "psiiFgo0ImO_",
        "colab_type": "code",
        "outputId": "78c8dc62-a6fe-474c-86f7-960d6043d401",
        "colab": {
          "base_uri": "https://localhost:8080/",
          "height": 153
        }
      },
      "source": [
        "#Here null value is due to here pickup_datetime value is 43 whcich doesnot represent datetime\n",
        "data.iloc[1327]"
      ],
      "execution_count": 18,
      "outputs": [
        {
          "output_type": "execute_result",
          "data": {
            "text/plain": [
              "fare_amount             11.5\n",
              "pickup_datetime           43\n",
              "pickup_longitude    -73.9819\n",
              "pickup_latitude      40.7282\n",
              "dropoff_longitude   -73.9886\n",
              "dropoff_latitude     40.7592\n",
              "passenger_count            1\n",
              "Name: 1327, dtype: object"
            ]
          },
          "metadata": {
            "tags": []
          },
          "execution_count": 18
        }
      ]
    },
    {
      "cell_type": "code",
      "metadata": {
        "id": "pa_BoFsFJvsB",
        "colab_type": "code",
        "colab": {}
      },
      "source": [
        "#so make a null value\n",
        "data.iloc[1327,1]=np.nan"
      ],
      "execution_count": 0,
      "outputs": []
    },
    {
      "cell_type": "code",
      "metadata": {
        "id": "DqT5zOG6J0Gt",
        "colab_type": "code",
        "outputId": "acc6d92f-03c8-4e1d-a396-420d077c9f93",
        "colab": {
          "base_uri": "https://localhost:8080/",
          "height": 153
        }
      },
      "source": [
        "train.isna().sum()"
      ],
      "execution_count": 20,
      "outputs": [
        {
          "output_type": "execute_result",
          "data": {
            "text/plain": [
              "fare_amount          24\n",
              "pickup_datetime       1\n",
              "pickup_longitude      0\n",
              "pickup_latitude       0\n",
              "dropoff_longitude     0\n",
              "dropoff_latitude      0\n",
              "passenger_count      55\n",
              "dtype: int64"
            ]
          },
          "metadata": {
            "tags": []
          },
          "execution_count": 20
        }
      ]
    },
    {
      "cell_type": "code",
      "metadata": {
        "id": "a86MNVY2KG_w",
        "colab_type": "code",
        "colab": {}
      },
      "source": [
        "# Delete all rows which contain null values\n",
        "train=train.dropna(subset=[\"pickup_datetime\",\"fare_amount\",\"passenger_count\"])"
      ],
      "execution_count": 0,
      "outputs": []
    },
    {
      "cell_type": "code",
      "metadata": {
        "id": "OOv1GYnOJ8vA",
        "colab_type": "code",
        "outputId": "00b6f4cd-8b5f-4d83-98a2-5a27e3c7f5f0",
        "colab": {
          "base_uri": "https://localhost:8080/",
          "height": 153
        }
      },
      "source": [
        "#data types of each column\n",
        "train.dtypes"
      ],
      "execution_count": 22,
      "outputs": [
        {
          "output_type": "execute_result",
          "data": {
            "text/plain": [
              "fare_amount                      float64\n",
              "pickup_datetime      datetime64[ns, UTC]\n",
              "pickup_longitude                 float64\n",
              "pickup_latitude                  float64\n",
              "dropoff_longitude                float64\n",
              "dropoff_latitude                 float64\n",
              "passenger_count                  float64\n",
              "dtype: object"
            ]
          },
          "metadata": {
            "tags": []
          },
          "execution_count": 22
        }
      ]
    },
    {
      "cell_type": "code",
      "metadata": {
        "id": "6PosUJ1vdgM1",
        "colab_type": "code",
        "colab": {
          "base_uri": "https://localhost:8080/",
          "height": 153
        },
        "outputId": "36c70f1a-c3fb-47bc-e1ad-91266c53a8c2"
      },
      "source": [
        "#Now there is no null value\n",
        "train.isna().sum()"
      ],
      "execution_count": 23,
      "outputs": [
        {
          "output_type": "execute_result",
          "data": {
            "text/plain": [
              "fare_amount          0\n",
              "pickup_datetime      0\n",
              "pickup_longitude     0\n",
              "pickup_latitude      0\n",
              "dropoff_longitude    0\n",
              "dropoff_latitude     0\n",
              "passenger_count      0\n",
              "dtype: int64"
            ]
          },
          "metadata": {
            "tags": []
          },
          "execution_count": 23
        }
      ]
    },
    {
      "cell_type": "code",
      "metadata": {
        "id": "F9sXhtOFKWqO",
        "colab_type": "code",
        "outputId": "197d1644-eac4-4f9c-aa1e-59ef6775824d",
        "colab": {
          "base_uri": "https://localhost:8080/",
          "height": 136
        }
      },
      "source": [
        "test.isna().sum()"
      ],
      "execution_count": 24,
      "outputs": [
        {
          "output_type": "execute_result",
          "data": {
            "text/plain": [
              "pickup_datetime      0\n",
              "pickup_longitude     0\n",
              "pickup_latitude      0\n",
              "dropoff_longitude    0\n",
              "dropoff_latitude     0\n",
              "passenger_count      0\n",
              "dtype: int64"
            ]
          },
          "metadata": {
            "tags": []
          },
          "execution_count": 24
        }
      ]
    },
    {
      "cell_type": "code",
      "metadata": {
        "id": "sJy9pmSDKaOh",
        "colab_type": "code",
        "outputId": "a2b62859-53bf-471b-8f40-0468dd7dbd35",
        "colab": {
          "base_uri": "https://localhost:8080/",
          "height": 136
        }
      },
      "source": [
        "test.dtypes"
      ],
      "execution_count": 25,
      "outputs": [
        {
          "output_type": "execute_result",
          "data": {
            "text/plain": [
              "pickup_datetime       object\n",
              "pickup_longitude     float64\n",
              "pickup_latitude      float64\n",
              "dropoff_longitude    float64\n",
              "dropoff_latitude     float64\n",
              "passenger_count        int64\n",
              "dtype: object"
            ]
          },
          "metadata": {
            "tags": []
          },
          "execution_count": 25
        }
      ]
    },
    {
      "cell_type": "code",
      "metadata": {
        "id": "dr9Gr_VEeMyR",
        "colab_type": "code",
        "colab": {}
      },
      "source": [
        "#Now we need to convert the datatypes of test dataset similar to train dataset\n",
        "test[\"pickup_datetime\"]=pd.to_datetime(test[\"pickup_datetime\"],errors=\"coerce\")"
      ],
      "execution_count": 0,
      "outputs": []
    },
    {
      "cell_type": "code",
      "metadata": {
        "id": "96HvKMs2K928",
        "colab_type": "code",
        "outputId": "47d4d4fc-1d8f-42c9-de81-7cf4f48d20d6",
        "colab": {
          "base_uri": "https://localhost:8080/",
          "height": 34
        }
      },
      "source": [
        "#In general every cab allows the passenger count is max 6\n",
        "len(train[train[\"passenger_count\"]>6])"
      ],
      "execution_count": 27,
      "outputs": [
        {
          "output_type": "execute_result",
          "data": {
            "text/plain": [
              "19"
            ]
          },
          "metadata": {
            "tags": []
          },
          "execution_count": 27
        }
      ]
    },
    {
      "cell_type": "code",
      "metadata": {
        "id": "hpYiws03Mapj",
        "colab_type": "code",
        "outputId": "174b5fcd-440f-4f8b-9c5e-9d981f2ea632",
        "colab": {
          "base_uri": "https://localhost:8080/",
          "height": 981
        }
      },
      "source": [
        "#checking the records having passenger count>6\n",
        "train[train[\"passenger_count\"]>6]"
      ],
      "execution_count": 28,
      "outputs": [
        {
          "output_type": "execute_result",
          "data": {
            "text/html": [
              "<div>\n",
              "<style scoped>\n",
              "    .dataframe tbody tr th:only-of-type {\n",
              "        vertical-align: middle;\n",
              "    }\n",
              "\n",
              "    .dataframe tbody tr th {\n",
              "        vertical-align: top;\n",
              "    }\n",
              "\n",
              "    .dataframe thead th {\n",
              "        text-align: right;\n",
              "    }\n",
              "</style>\n",
              "<table border=\"1\" class=\"dataframe\">\n",
              "  <thead>\n",
              "    <tr style=\"text-align: right;\">\n",
              "      <th></th>\n",
              "      <th>fare_amount</th>\n",
              "      <th>pickup_datetime</th>\n",
              "      <th>pickup_longitude</th>\n",
              "      <th>pickup_latitude</th>\n",
              "      <th>dropoff_longitude</th>\n",
              "      <th>dropoff_latitude</th>\n",
              "      <th>passenger_count</th>\n",
              "    </tr>\n",
              "  </thead>\n",
              "  <tbody>\n",
              "    <tr>\n",
              "      <th>233</th>\n",
              "      <td>8.5</td>\n",
              "      <td>2011-07-24 01:14:35+00:00</td>\n",
              "      <td>0.000000</td>\n",
              "      <td>0.000000</td>\n",
              "      <td>0.000000</td>\n",
              "      <td>0.000000</td>\n",
              "      <td>236.0</td>\n",
              "    </tr>\n",
              "    <tr>\n",
              "      <th>263</th>\n",
              "      <td>4.9</td>\n",
              "      <td>2010-07-12 09:44:33+00:00</td>\n",
              "      <td>-73.983249</td>\n",
              "      <td>40.734655</td>\n",
              "      <td>-73.991278</td>\n",
              "      <td>40.738918</td>\n",
              "      <td>456.0</td>\n",
              "    </tr>\n",
              "    <tr>\n",
              "      <th>293</th>\n",
              "      <td>6.1</td>\n",
              "      <td>2011-01-18 23:48:00+00:00</td>\n",
              "      <td>-74.006642</td>\n",
              "      <td>40.738927</td>\n",
              "      <td>-74.010828</td>\n",
              "      <td>40.717907</td>\n",
              "      <td>5334.0</td>\n",
              "    </tr>\n",
              "    <tr>\n",
              "      <th>356</th>\n",
              "      <td>8.5</td>\n",
              "      <td>2013-06-18 10:27:05+00:00</td>\n",
              "      <td>-73.992108</td>\n",
              "      <td>40.764203</td>\n",
              "      <td>-73.973000</td>\n",
              "      <td>40.762695</td>\n",
              "      <td>535.0</td>\n",
              "    </tr>\n",
              "    <tr>\n",
              "      <th>386</th>\n",
              "      <td>8.1</td>\n",
              "      <td>2009-08-21 19:35:05+00:00</td>\n",
              "      <td>-73.960853</td>\n",
              "      <td>40.761557</td>\n",
              "      <td>-73.976335</td>\n",
              "      <td>40.748361</td>\n",
              "      <td>354.0</td>\n",
              "    </tr>\n",
              "    <tr>\n",
              "      <th>971</th>\n",
              "      <td>10.1</td>\n",
              "      <td>2010-11-21 01:41:00+00:00</td>\n",
              "      <td>-74.004500</td>\n",
              "      <td>40.742143</td>\n",
              "      <td>-73.994330</td>\n",
              "      <td>40.720412</td>\n",
              "      <td>554.0</td>\n",
              "    </tr>\n",
              "    <tr>\n",
              "      <th>1007</th>\n",
              "      <td>3.7</td>\n",
              "      <td>2010-12-14 14:46:00+00:00</td>\n",
              "      <td>-73.969157</td>\n",
              "      <td>40.759000</td>\n",
              "      <td>-73.968763</td>\n",
              "      <td>40.764617</td>\n",
              "      <td>53.0</td>\n",
              "    </tr>\n",
              "    <tr>\n",
              "      <th>1043</th>\n",
              "      <td>5.7</td>\n",
              "      <td>2012-08-22 22:08:29+00:00</td>\n",
              "      <td>-73.973573</td>\n",
              "      <td>40.760184</td>\n",
              "      <td>-73.953564</td>\n",
              "      <td>40.767392</td>\n",
              "      <td>35.0</td>\n",
              "    </tr>\n",
              "    <tr>\n",
              "      <th>1107</th>\n",
              "      <td>4.9</td>\n",
              "      <td>2009-08-08 21:50:50+00:00</td>\n",
              "      <td>-73.988977</td>\n",
              "      <td>40.721068</td>\n",
              "      <td>-73.982368</td>\n",
              "      <td>40.732064</td>\n",
              "      <td>345.0</td>\n",
              "    </tr>\n",
              "    <tr>\n",
              "      <th>1146</th>\n",
              "      <td>8.0</td>\n",
              "      <td>2014-03-27 08:05:01+00:00</td>\n",
              "      <td>-73.991098</td>\n",
              "      <td>40.770655</td>\n",
              "      <td>-73.976933</td>\n",
              "      <td>40.790070</td>\n",
              "      <td>5345.0</td>\n",
              "    </tr>\n",
              "    <tr>\n",
              "      <th>1200</th>\n",
              "      <td>9.7</td>\n",
              "      <td>2011-08-16 09:29:00+00:00</td>\n",
              "      <td>-73.980487</td>\n",
              "      <td>40.741610</td>\n",
              "      <td>-73.980617</td>\n",
              "      <td>40.746868</td>\n",
              "      <td>536.0</td>\n",
              "    </tr>\n",
              "    <tr>\n",
              "      <th>1242</th>\n",
              "      <td>5.3</td>\n",
              "      <td>2011-10-16 00:22:00+00:00</td>\n",
              "      <td>-73.981095</td>\n",
              "      <td>40.738160</td>\n",
              "      <td>-73.990587</td>\n",
              "      <td>40.740105</td>\n",
              "      <td>43.0</td>\n",
              "    </tr>\n",
              "    <tr>\n",
              "      <th>8406</th>\n",
              "      <td>6.9</td>\n",
              "      <td>2010-08-25 11:41:00+00:00</td>\n",
              "      <td>0.000000</td>\n",
              "      <td>0.000000</td>\n",
              "      <td>0.000000</td>\n",
              "      <td>0.000000</td>\n",
              "      <td>53.0</td>\n",
              "    </tr>\n",
              "    <tr>\n",
              "      <th>8445</th>\n",
              "      <td>5.7</td>\n",
              "      <td>2009-03-28 22:00:00+00:00</td>\n",
              "      <td>-73.982413</td>\n",
              "      <td>40.751320</td>\n",
              "      <td>-73.971292</td>\n",
              "      <td>40.748502</td>\n",
              "      <td>58.0</td>\n",
              "    </tr>\n",
              "    <tr>\n",
              "      <th>8506</th>\n",
              "      <td>11.3</td>\n",
              "      <td>2010-05-23 20:06:37+00:00</td>\n",
              "      <td>-73.985424</td>\n",
              "      <td>40.738468</td>\n",
              "      <td>-74.001698</td>\n",
              "      <td>40.707758</td>\n",
              "      <td>537.0</td>\n",
              "    </tr>\n",
              "    <tr>\n",
              "      <th>8571</th>\n",
              "      <td>12.5</td>\n",
              "      <td>2011-12-03 03:21:00+00:00</td>\n",
              "      <td>-73.993718</td>\n",
              "      <td>40.762039</td>\n",
              "      <td>-73.977527</td>\n",
              "      <td>40.734024</td>\n",
              "      <td>87.0</td>\n",
              "    </tr>\n",
              "    <tr>\n",
              "      <th>8631</th>\n",
              "      <td>20.0</td>\n",
              "      <td>2012-12-10 22:28:00+00:00</td>\n",
              "      <td>-73.955445</td>\n",
              "      <td>40.670232</td>\n",
              "      <td>-74.004795</td>\n",
              "      <td>40.731477</td>\n",
              "      <td>43.0</td>\n",
              "    </tr>\n",
              "    <tr>\n",
              "      <th>8715</th>\n",
              "      <td>4.5</td>\n",
              "      <td>2009-09-04 09:14:03+00:00</td>\n",
              "      <td>-73.977518</td>\n",
              "      <td>40.758480</td>\n",
              "      <td>-73.983252</td>\n",
              "      <td>40.749837</td>\n",
              "      <td>531.2</td>\n",
              "    </tr>\n",
              "    <tr>\n",
              "      <th>8985</th>\n",
              "      <td>8.5</td>\n",
              "      <td>2015-01-14 15:10:21+00:00</td>\n",
              "      <td>-73.955444</td>\n",
              "      <td>40.787605</td>\n",
              "      <td>-73.965561</td>\n",
              "      <td>40.798691</td>\n",
              "      <td>557.0</td>\n",
              "    </tr>\n",
              "  </tbody>\n",
              "</table>\n",
              "</div>"
            ],
            "text/plain": [
              "      fare_amount           pickup_datetime  ...  dropoff_latitude  passenger_count\n",
              "233           8.5 2011-07-24 01:14:35+00:00  ...          0.000000            236.0\n",
              "263           4.9 2010-07-12 09:44:33+00:00  ...         40.738918            456.0\n",
              "293           6.1 2011-01-18 23:48:00+00:00  ...         40.717907           5334.0\n",
              "356           8.5 2013-06-18 10:27:05+00:00  ...         40.762695            535.0\n",
              "386           8.1 2009-08-21 19:35:05+00:00  ...         40.748361            354.0\n",
              "971          10.1 2010-11-21 01:41:00+00:00  ...         40.720412            554.0\n",
              "1007          3.7 2010-12-14 14:46:00+00:00  ...         40.764617             53.0\n",
              "1043          5.7 2012-08-22 22:08:29+00:00  ...         40.767392             35.0\n",
              "1107          4.9 2009-08-08 21:50:50+00:00  ...         40.732064            345.0\n",
              "1146          8.0 2014-03-27 08:05:01+00:00  ...         40.790070           5345.0\n",
              "1200          9.7 2011-08-16 09:29:00+00:00  ...         40.746868            536.0\n",
              "1242          5.3 2011-10-16 00:22:00+00:00  ...         40.740105             43.0\n",
              "8406          6.9 2010-08-25 11:41:00+00:00  ...          0.000000             53.0\n",
              "8445          5.7 2009-03-28 22:00:00+00:00  ...         40.748502             58.0\n",
              "8506         11.3 2010-05-23 20:06:37+00:00  ...         40.707758            537.0\n",
              "8571         12.5 2011-12-03 03:21:00+00:00  ...         40.734024             87.0\n",
              "8631         20.0 2012-12-10 22:28:00+00:00  ...         40.731477             43.0\n",
              "8715          4.5 2009-09-04 09:14:03+00:00  ...         40.749837            531.2\n",
              "8985          8.5 2015-01-14 15:10:21+00:00  ...         40.798691            557.0\n",
              "\n",
              "[19 rows x 7 columns]"
            ]
          },
          "metadata": {
            "tags": []
          },
          "execution_count": 28
        }
      ]
    },
    {
      "cell_type": "code",
      "metadata": {
        "id": "F7sAcjr5Npq3",
        "colab_type": "code",
        "colab": {}
      },
      "source": [
        "#Remove the records which have passenger count >6\n",
        "train=train.drop(train[train[\"passenger_count\"]>6].index,axis=0)"
      ],
      "execution_count": 0,
      "outputs": []
    },
    {
      "cell_type": "code",
      "metadata": {
        "id": "S8RG7fgMOC93",
        "colab_type": "code",
        "outputId": "a4198e0c-c639-456d-a052-7a2e1ef39810",
        "colab": {
          "base_uri": "https://localhost:8080/",
          "height": 34
        }
      },
      "source": [
        "#passenger count should be greater that 1. Less than 1 is not possible\n",
        "len(train[train[\"passenger_count\"]<1])"
      ],
      "execution_count": 30,
      "outputs": [
        {
          "output_type": "execute_result",
          "data": {
            "text/plain": [
              "58"
            ]
          },
          "metadata": {
            "tags": []
          },
          "execution_count": 30
        }
      ]
    },
    {
      "cell_type": "code",
      "metadata": {
        "id": "4eRhM4NPOTxo",
        "colab_type": "code",
        "colab": {}
      },
      "source": [
        "#Remove the records passengers count <1\n",
        "train=train.drop(train[train[\"passenger_count\"]<1].index,axis=0)"
      ],
      "execution_count": 0,
      "outputs": []
    },
    {
      "cell_type": "code",
      "metadata": {
        "id": "bxrrQZb1PGQP",
        "colab_type": "code",
        "outputId": "4e1f5181-9b3b-4dd0-ca15-2ba08ed39993",
        "colab": {
          "base_uri": "https://localhost:8080/",
          "height": 34
        }
      },
      "source": [
        "train.shape"
      ],
      "execution_count": 32,
      "outputs": [
        {
          "output_type": "execute_result",
          "data": {
            "text/plain": [
              "(15910, 7)"
            ]
          },
          "metadata": {
            "tags": []
          },
          "execution_count": 32
        }
      ]
    },
    {
      "cell_type": "code",
      "metadata": {
        "id": "d7QzjZA5PHyg",
        "colab_type": "code",
        "outputId": "c7b05bd0-4abd-4106-f5a8-c9e8b283d08d",
        "colab": {
          "base_uri": "https://localhost:8080/",
          "height": 221
        }
      },
      "source": [
        "#on seeing this observation maximum fare amount is too large there is sudden drop off in fare amount\n",
        "train.fare_amount.sort_values(ascending=False)"
      ],
      "execution_count": 33,
      "outputs": [
        {
          "output_type": "execute_result",
          "data": {
            "text/plain": [
              "1015     54343.00\n",
              "1072      4343.00\n",
              "607        453.00\n",
              "980        434.00\n",
              "1123       430.00\n",
              "           ...   \n",
              "2780         0.01\n",
              "10002        0.00\n",
              "2486        -2.50\n",
              "2039        -2.90\n",
              "13032       -3.00\n",
              "Name: fare_amount, Length: 15910, dtype: float64"
            ]
          },
          "metadata": {
            "tags": []
          },
          "execution_count": 33
        }
      ]
    },
    {
      "cell_type": "code",
      "metadata": {
        "id": "xAqIBrK2P0SD",
        "colab_type": "code",
        "colab": {}
      },
      "source": [
        "#Drop the records having fare_amount > 454\n",
        "train=train.drop(train[train[\"fare_amount\"]>454].index,axis=0)"
      ],
      "execution_count": 0,
      "outputs": []
    },
    {
      "cell_type": "code",
      "metadata": {
        "id": "Ik3bolzaPYJV",
        "colab_type": "code",
        "outputId": "560eb793-7f9e-4204-ce16-db84899fa3f6",
        "colab": {
          "base_uri": "https://localhost:8080/",
          "height": 34
        }
      },
      "source": [
        "len(train[train[\"fare_amount\"]<=0])"
      ],
      "execution_count": 35,
      "outputs": [
        {
          "output_type": "execute_result",
          "data": {
            "text/plain": [
              "4"
            ]
          },
          "metadata": {
            "tags": []
          },
          "execution_count": 35
        }
      ]
    },
    {
      "cell_type": "code",
      "metadata": {
        "id": "k4IRxyc_PiuF",
        "colab_type": "code",
        "colab": {}
      },
      "source": [
        "#Fare_amount should not be <0 . So remove the records if it has values <0\n",
        "train=train.drop(train[train[\"fare_amount\"]<=0].index,axis=0)"
      ],
      "execution_count": 0,
      "outputs": []
    },
    {
      "cell_type": "code",
      "metadata": {
        "id": "ATtG97RMPyzL",
        "colab_type": "code",
        "outputId": "f07bb7ac-e1da-444d-98bc-2959aca21889",
        "colab": {
          "base_uri": "https://localhost:8080/",
          "height": 34
        }
      },
      "source": [
        "train.shape"
      ],
      "execution_count": 37,
      "outputs": [
        {
          "output_type": "execute_result",
          "data": {
            "text/plain": [
              "(15904, 7)"
            ]
          },
          "metadata": {
            "tags": []
          },
          "execution_count": 37
        }
      ]
    },
    {
      "cell_type": "code",
      "metadata": {
        "id": "nXEwN2CKQMfL",
        "colab_type": "code",
        "outputId": "6a4bdd1b-4b79-42e3-9d79-dde5cb634f26",
        "colab": {
          "base_uri": "https://localhost:8080/",
          "height": 68
        }
      },
      "source": [
        "train.columns"
      ],
      "execution_count": 38,
      "outputs": [
        {
          "output_type": "execute_result",
          "data": {
            "text/plain": [
              "Index(['fare_amount', 'pickup_datetime', 'pickup_longitude', 'pickup_latitude',\n",
              "       'dropoff_longitude', 'dropoff_latitude', 'passenger_count'],\n",
              "      dtype='object')"
            ]
          },
          "metadata": {
            "tags": []
          },
          "execution_count": 38
        }
      ]
    },
    {
      "cell_type": "markdown",
      "metadata": {
        "id": "d0NcmHq8iPjC",
        "colab_type": "text"
      },
      "source": [
        "We know that Latitudes are range in between -90 to 90\n",
        "and Longitudes are range between -180 to 180. In our dataset if there are any records not between those remove that records"
      ]
    },
    {
      "cell_type": "code",
      "metadata": {
        "id": "S4PJ19PiQOFy",
        "colab_type": "code",
        "colab": {}
      },
      "source": [
        "#Remove the records which are not in actual ranges\n",
        "train=train.drop(train[train[\"pickup_longitude\"]<-180].index,axis=0)\n",
        "train=train.drop(train[train[\"pickup_latitude\"]<-90].index,axis=0)\n",
        "train=train.drop(train[train[\"dropoff_longitude\"]<-180].index,axis=0)\n",
        "train=train.drop(train[train[\"dropoff_latitude\"]<-90].index,axis=0)\n",
        "train=train.drop(train[train[\"pickup_longitude\"]>180].index,axis=0)\n",
        "train=train.drop(train[train[\"pickup_latitude\"]>90].index,axis=0)\n",
        "train=train.drop(train[train[\"dropoff_longitude\"]>180].index,axis=0)\n",
        "train=train.drop(train[train[\"dropoff_latitude\"]>90].index,axis=0)"
      ],
      "execution_count": 0,
      "outputs": []
    },
    {
      "cell_type": "code",
      "metadata": {
        "id": "XUawahRpQUEi",
        "colab_type": "code",
        "outputId": "cba6bc04-1808-46a3-a56d-0a3d18ebe42c",
        "colab": {
          "base_uri": "https://localhost:8080/",
          "height": 68
        }
      },
      "source": [
        "train.columns"
      ],
      "execution_count": 40,
      "outputs": [
        {
          "output_type": "execute_result",
          "data": {
            "text/plain": [
              "Index(['fare_amount', 'pickup_datetime', 'pickup_longitude', 'pickup_latitude',\n",
              "       'dropoff_longitude', 'dropoff_latitude', 'passenger_count'],\n",
              "      dtype='object')"
            ]
          },
          "metadata": {
            "tags": []
          },
          "execution_count": 40
        }
      ]
    },
    {
      "cell_type": "markdown",
      "metadata": {
        "id": "8GWK8xJU54Z7",
        "colab_type": "text"
      },
      "source": [
        "# FEATURE ENGINEERING"
      ]
    },
    {
      "cell_type": "code",
      "metadata": {
        "id": "Y1COHBzAKiBo",
        "colab_type": "code",
        "colab": {}
      },
      "source": [
        "#Add more columns using pickup_datetime\n",
        "train[\"year\"]=train['pickup_datetime'].dt.year\n",
        "train[\"Month\"]=train[\"pickup_datetime\"].dt.month\n",
        "train[\"Date\"]=train[\"pickup_datetime\"].dt.day\n",
        "train[\"Day\"]=train[\"pickup_datetime\"].dt.dayofweek\n",
        "train[\"Hour\"]=train[\"pickup_datetime\"].dt.hour"
      ],
      "execution_count": 0,
      "outputs": []
    },
    {
      "cell_type": "code",
      "metadata": {
        "id": "DjqK0mJjgboh",
        "colab_type": "code",
        "colab": {
          "base_uri": "https://localhost:8080/",
          "height": 317
        },
        "outputId": "2043ba7e-2cd2-432b-ba51-fc517e56dfbd"
      },
      "source": [
        "train.describe()"
      ],
      "execution_count": 42,
      "outputs": [
        {
          "output_type": "execute_result",
          "data": {
            "text/html": [
              "<div>\n",
              "<style scoped>\n",
              "    .dataframe tbody tr th:only-of-type {\n",
              "        vertical-align: middle;\n",
              "    }\n",
              "\n",
              "    .dataframe tbody tr th {\n",
              "        vertical-align: top;\n",
              "    }\n",
              "\n",
              "    .dataframe thead th {\n",
              "        text-align: right;\n",
              "    }\n",
              "</style>\n",
              "<table border=\"1\" class=\"dataframe\">\n",
              "  <thead>\n",
              "    <tr style=\"text-align: right;\">\n",
              "      <th></th>\n",
              "      <th>fare_amount</th>\n",
              "      <th>pickup_longitude</th>\n",
              "      <th>pickup_latitude</th>\n",
              "      <th>dropoff_longitude</th>\n",
              "      <th>dropoff_latitude</th>\n",
              "      <th>passenger_count</th>\n",
              "      <th>year</th>\n",
              "      <th>Month</th>\n",
              "      <th>Date</th>\n",
              "      <th>Day</th>\n",
              "      <th>Hour</th>\n",
              "    </tr>\n",
              "  </thead>\n",
              "  <tbody>\n",
              "    <tr>\n",
              "      <th>count</th>\n",
              "      <td>15903.000000</td>\n",
              "      <td>15903.000000</td>\n",
              "      <td>15903.000000</td>\n",
              "      <td>15903.000000</td>\n",
              "      <td>15903.000000</td>\n",
              "      <td>15903.000000</td>\n",
              "      <td>15903.000000</td>\n",
              "      <td>15903.000000</td>\n",
              "      <td>15903.000000</td>\n",
              "      <td>15903.000000</td>\n",
              "      <td>15903.000000</td>\n",
              "    </tr>\n",
              "    <tr>\n",
              "      <th>mean</th>\n",
              "      <td>11.402472</td>\n",
              "      <td>-72.475081</td>\n",
              "      <td>39.898838</td>\n",
              "      <td>-72.465338</td>\n",
              "      <td>39.899372</td>\n",
              "      <td>1.649645</td>\n",
              "      <td>2011.730743</td>\n",
              "      <td>6.265044</td>\n",
              "      <td>15.669308</td>\n",
              "      <td>3.034207</td>\n",
              "      <td>13.494749</td>\n",
              "    </tr>\n",
              "    <tr>\n",
              "      <th>std</th>\n",
              "      <td>11.312762</td>\n",
              "      <td>10.538127</td>\n",
              "      <td>6.186416</td>\n",
              "      <td>10.566052</td>\n",
              "      <td>6.186041</td>\n",
              "      <td>1.265811</td>\n",
              "      <td>1.866926</td>\n",
              "      <td>3.447121</td>\n",
              "      <td>8.685298</td>\n",
              "      <td>1.968648</td>\n",
              "      <td>6.521605</td>\n",
              "    </tr>\n",
              "    <tr>\n",
              "      <th>min</th>\n",
              "      <td>0.010000</td>\n",
              "      <td>-74.438233</td>\n",
              "      <td>-74.006893</td>\n",
              "      <td>-74.429332</td>\n",
              "      <td>-74.006377</td>\n",
              "      <td>1.000000</td>\n",
              "      <td>2009.000000</td>\n",
              "      <td>1.000000</td>\n",
              "      <td>1.000000</td>\n",
              "      <td>0.000000</td>\n",
              "      <td>0.000000</td>\n",
              "    </tr>\n",
              "    <tr>\n",
              "      <th>25%</th>\n",
              "      <td>6.000000</td>\n",
              "      <td>-73.992143</td>\n",
              "      <td>40.734946</td>\n",
              "      <td>-73.991181</td>\n",
              "      <td>40.734715</td>\n",
              "      <td>1.000000</td>\n",
              "      <td>2010.000000</td>\n",
              "      <td>3.000000</td>\n",
              "      <td>8.000000</td>\n",
              "      <td>1.000000</td>\n",
              "      <td>9.000000</td>\n",
              "    </tr>\n",
              "    <tr>\n",
              "      <th>50%</th>\n",
              "      <td>8.500000</td>\n",
              "      <td>-73.981689</td>\n",
              "      <td>40.752640</td>\n",
              "      <td>-73.980157</td>\n",
              "      <td>40.753565</td>\n",
              "      <td>1.000000</td>\n",
              "      <td>2012.000000</td>\n",
              "      <td>6.000000</td>\n",
              "      <td>16.000000</td>\n",
              "      <td>3.000000</td>\n",
              "      <td>14.000000</td>\n",
              "    </tr>\n",
              "    <tr>\n",
              "      <th>75%</th>\n",
              "      <td>12.500000</td>\n",
              "      <td>-73.966808</td>\n",
              "      <td>40.767382</td>\n",
              "      <td>-73.963643</td>\n",
              "      <td>40.768027</td>\n",
              "      <td>2.000000</td>\n",
              "      <td>2013.000000</td>\n",
              "      <td>9.000000</td>\n",
              "      <td>23.000000</td>\n",
              "      <td>5.000000</td>\n",
              "      <td>19.000000</td>\n",
              "    </tr>\n",
              "    <tr>\n",
              "      <th>max</th>\n",
              "      <td>453.000000</td>\n",
              "      <td>40.766125</td>\n",
              "      <td>41.366138</td>\n",
              "      <td>40.802437</td>\n",
              "      <td>41.366138</td>\n",
              "      <td>6.000000</td>\n",
              "      <td>2015.000000</td>\n",
              "      <td>12.000000</td>\n",
              "      <td>31.000000</td>\n",
              "      <td>6.000000</td>\n",
              "      <td>23.000000</td>\n",
              "    </tr>\n",
              "  </tbody>\n",
              "</table>\n",
              "</div>"
            ],
            "text/plain": [
              "        fare_amount  pickup_longitude  ...           Day          Hour\n",
              "count  15903.000000      15903.000000  ...  15903.000000  15903.000000\n",
              "mean      11.402472        -72.475081  ...      3.034207     13.494749\n",
              "std       11.312762         10.538127  ...      1.968648      6.521605\n",
              "min        0.010000        -74.438233  ...      0.000000      0.000000\n",
              "25%        6.000000        -73.992143  ...      1.000000      9.000000\n",
              "50%        8.500000        -73.981689  ...      3.000000     14.000000\n",
              "75%       12.500000        -73.966808  ...      5.000000     19.000000\n",
              "max      453.000000         40.766125  ...      6.000000     23.000000\n",
              "\n",
              "[8 rows x 11 columns]"
            ]
          },
          "metadata": {
            "tags": []
          },
          "execution_count": 42
        }
      ]
    },
    {
      "cell_type": "code",
      "metadata": {
        "id": "TwM9d4CQghhF",
        "colab_type": "code",
        "colab": {}
      },
      "source": [
        "#similarly do in test set\n",
        "test[\"year\"]=test['pickup_datetime'].dt.year\n",
        "test[\"Month\"]=test[\"pickup_datetime\"].dt.month\n",
        "test[\"Date\"]=test[\"pickup_datetime\"].dt.day\n",
        "test[\"Day\"]=test[\"pickup_datetime\"].dt.dayofweek\n",
        "test[\"Hour\"]=test[\"pickup_datetime\"].dt.hour"
      ],
      "execution_count": 0,
      "outputs": []
    },
    {
      "cell_type": "code",
      "metadata": {
        "id": "gAQmZUN7hAkg",
        "colab_type": "code",
        "colab": {
          "base_uri": "https://localhost:8080/",
          "height": 317
        },
        "outputId": "1670c5a2-d86e-4cca-f99e-f4c1927ddb23"
      },
      "source": [
        "test.describe()"
      ],
      "execution_count": 44,
      "outputs": [
        {
          "output_type": "execute_result",
          "data": {
            "text/html": [
              "<div>\n",
              "<style scoped>\n",
              "    .dataframe tbody tr th:only-of-type {\n",
              "        vertical-align: middle;\n",
              "    }\n",
              "\n",
              "    .dataframe tbody tr th {\n",
              "        vertical-align: top;\n",
              "    }\n",
              "\n",
              "    .dataframe thead th {\n",
              "        text-align: right;\n",
              "    }\n",
              "</style>\n",
              "<table border=\"1\" class=\"dataframe\">\n",
              "  <thead>\n",
              "    <tr style=\"text-align: right;\">\n",
              "      <th></th>\n",
              "      <th>pickup_longitude</th>\n",
              "      <th>pickup_latitude</th>\n",
              "      <th>dropoff_longitude</th>\n",
              "      <th>dropoff_latitude</th>\n",
              "      <th>passenger_count</th>\n",
              "      <th>year</th>\n",
              "      <th>Month</th>\n",
              "      <th>Date</th>\n",
              "      <th>Day</th>\n",
              "      <th>Hour</th>\n",
              "    </tr>\n",
              "  </thead>\n",
              "  <tbody>\n",
              "    <tr>\n",
              "      <th>count</th>\n",
              "      <td>9914.000000</td>\n",
              "      <td>9914.000000</td>\n",
              "      <td>9914.000000</td>\n",
              "      <td>9914.000000</td>\n",
              "      <td>9914.000000</td>\n",
              "      <td>9914.000000</td>\n",
              "      <td>9914.000000</td>\n",
              "      <td>9914.000000</td>\n",
              "      <td>9914.000000</td>\n",
              "      <td>9914.000000</td>\n",
              "    </tr>\n",
              "    <tr>\n",
              "      <th>mean</th>\n",
              "      <td>-73.974722</td>\n",
              "      <td>40.751041</td>\n",
              "      <td>-73.973657</td>\n",
              "      <td>40.751743</td>\n",
              "      <td>1.671273</td>\n",
              "      <td>2011.815816</td>\n",
              "      <td>6.857979</td>\n",
              "      <td>16.194170</td>\n",
              "      <td>2.852834</td>\n",
              "      <td>13.467420</td>\n",
              "    </tr>\n",
              "    <tr>\n",
              "      <th>std</th>\n",
              "      <td>0.042774</td>\n",
              "      <td>0.033541</td>\n",
              "      <td>0.039072</td>\n",
              "      <td>0.035435</td>\n",
              "      <td>1.278747</td>\n",
              "      <td>1.803347</td>\n",
              "      <td>3.353272</td>\n",
              "      <td>8.838482</td>\n",
              "      <td>1.994451</td>\n",
              "      <td>6.868584</td>\n",
              "    </tr>\n",
              "    <tr>\n",
              "      <th>min</th>\n",
              "      <td>-74.252193</td>\n",
              "      <td>40.573143</td>\n",
              "      <td>-74.263242</td>\n",
              "      <td>40.568973</td>\n",
              "      <td>1.000000</td>\n",
              "      <td>2009.000000</td>\n",
              "      <td>1.000000</td>\n",
              "      <td>1.000000</td>\n",
              "      <td>0.000000</td>\n",
              "      <td>0.000000</td>\n",
              "    </tr>\n",
              "    <tr>\n",
              "      <th>25%</th>\n",
              "      <td>-73.992501</td>\n",
              "      <td>40.736125</td>\n",
              "      <td>-73.991247</td>\n",
              "      <td>40.735254</td>\n",
              "      <td>1.000000</td>\n",
              "      <td>2010.000000</td>\n",
              "      <td>4.000000</td>\n",
              "      <td>9.000000</td>\n",
              "      <td>1.000000</td>\n",
              "      <td>8.000000</td>\n",
              "    </tr>\n",
              "    <tr>\n",
              "      <th>50%</th>\n",
              "      <td>-73.982326</td>\n",
              "      <td>40.753051</td>\n",
              "      <td>-73.980015</td>\n",
              "      <td>40.754065</td>\n",
              "      <td>1.000000</td>\n",
              "      <td>2012.000000</td>\n",
              "      <td>7.000000</td>\n",
              "      <td>16.000000</td>\n",
              "      <td>3.000000</td>\n",
              "      <td>15.000000</td>\n",
              "    </tr>\n",
              "    <tr>\n",
              "      <th>75%</th>\n",
              "      <td>-73.968013</td>\n",
              "      <td>40.767113</td>\n",
              "      <td>-73.964059</td>\n",
              "      <td>40.768757</td>\n",
              "      <td>2.000000</td>\n",
              "      <td>2014.000000</td>\n",
              "      <td>10.000000</td>\n",
              "      <td>25.000000</td>\n",
              "      <td>5.000000</td>\n",
              "      <td>19.000000</td>\n",
              "    </tr>\n",
              "    <tr>\n",
              "      <th>max</th>\n",
              "      <td>-72.986532</td>\n",
              "      <td>41.709555</td>\n",
              "      <td>-72.990963</td>\n",
              "      <td>41.696683</td>\n",
              "      <td>6.000000</td>\n",
              "      <td>2015.000000</td>\n",
              "      <td>12.000000</td>\n",
              "      <td>31.000000</td>\n",
              "      <td>6.000000</td>\n",
              "      <td>23.000000</td>\n",
              "    </tr>\n",
              "  </tbody>\n",
              "</table>\n",
              "</div>"
            ],
            "text/plain": [
              "       pickup_longitude  pickup_latitude  ...          Day         Hour\n",
              "count       9914.000000      9914.000000  ...  9914.000000  9914.000000\n",
              "mean         -73.974722        40.751041  ...     2.852834    13.467420\n",
              "std            0.042774         0.033541  ...     1.994451     6.868584\n",
              "min          -74.252193        40.573143  ...     0.000000     0.000000\n",
              "25%          -73.992501        40.736125  ...     1.000000     8.000000\n",
              "50%          -73.982326        40.753051  ...     3.000000    15.000000\n",
              "75%          -73.968013        40.767113  ...     5.000000    19.000000\n",
              "max          -72.986532        41.709555  ...     6.000000    23.000000\n",
              "\n",
              "[8 rows x 10 columns]"
            ]
          },
          "metadata": {
            "tags": []
          },
          "execution_count": 44
        }
      ]
    },
    {
      "cell_type": "code",
      "metadata": {
        "id": "eYyity5HSB13",
        "colab_type": "code",
        "colab": {}
      },
      "source": [
        "# From latitudes and longitudes we can know the distance i.e how long the passenger travel which\n",
        "#is useful for finding fare amount. This distance method calculats the distance between two latitudes and longitudes\n",
        "def distance(values):\n",
        "  longitude_s=values[0]\n",
        "  latitude_s=values[1]\n",
        "  longitude_e=values[2]\n",
        "  latitude_e=values[3]\n",
        "  start=(latitude_s,longitude_s)\n",
        "  end=(latitude_e,longitude_e)\n",
        "  return geodesic(start, end).miles*1.6"
      ],
      "execution_count": 0,
      "outputs": []
    },
    {
      "cell_type": "code",
      "metadata": {
        "id": "ubBR4ZYXTNnG",
        "colab_type": "code",
        "colab": {}
      },
      "source": [
        "#using the pickup and drop latitudes and longitudes calculates the distances and store into new column Distance\n",
        "train[\"Distance\"]=train[['pickup_longitude', 'pickup_latitude','dropoff_longitude', 'dropoff_latitude']].apply(distance,axis=1)"
      ],
      "execution_count": 0,
      "outputs": []
    },
    {
      "cell_type": "code",
      "metadata": {
        "id": "-oedTOvvTmJ6",
        "colab_type": "code",
        "outputId": "afafb98b-2226-4597-ef47-6e925c7d2c4c",
        "colab": {
          "base_uri": "https://localhost:8080/",
          "height": 884
        }
      },
      "source": [
        "train.Distance.sort_values(ascending=False)[0:50]"
      ],
      "execution_count": 47,
      "outputs": [
        {
          "output_type": "execute_result",
          "data": {
            "text/plain": [
              "9147     8617.557602\n",
              "8647     8617.513608\n",
              "2397     8617.484343\n",
              "472      8617.330716\n",
              "11653    8616.709306\n",
              "13340    8616.642166\n",
              "10215    8616.602348\n",
              "4597     8616.583388\n",
              "10458    8615.990794\n",
              "10672    8615.722287\n",
              "10488    8615.576734\n",
              "1260     8615.289370\n",
              "4278     8615.243659\n",
              "6188     8614.203168\n",
              "12983    8614.153749\n",
              "6302     8613.050255\n",
              "12705    8611.397601\n",
              "14197    8607.172758\n",
              "15783    8606.753327\n",
              "15749    6009.145985\n",
              "2280     6006.721975\n",
              "5864     5403.220089\n",
              "7014     4403.443725\n",
              "10710     129.013953\n",
              "14536     128.626836\n",
              "11619     126.590280\n",
              "12228     122.670258\n",
              "5663      100.578640\n",
              "1684       99.265543\n",
              "3075       97.485133\n",
              "9899       97.173372\n",
              "4487       95.363602\n",
              "9808       93.452161\n",
              "7401       92.120777\n",
              "12349      43.340218\n",
              "649        39.240659\n",
              "6308       37.688470\n",
              "4118       32.384864\n",
              "7021       29.272726\n",
              "6677       26.204354\n",
              "4567       25.552315\n",
              "8105       24.537341\n",
              "15023      24.042372\n",
              "15178      23.676781\n",
              "14099      23.565574\n",
              "12433      23.382830\n",
              "4268       23.070481\n",
              "3216       23.063744\n",
              "4299       23.045901\n",
              "12941      22.985435\n",
              "Name: Distance, dtype: float64"
            ]
          },
          "metadata": {
            "tags": []
          },
          "execution_count": 47
        }
      ]
    },
    {
      "cell_type": "code",
      "metadata": {
        "id": "UFFcChShTu5-",
        "colab_type": "code",
        "colab": {}
      },
      "source": [
        "#In distance there is sudden drop after 130 so remove those columns which are too large\n",
        "train=train.drop(train[train[\"Distance\"]>130].index,axis=0)"
      ],
      "execution_count": 0,
      "outputs": []
    },
    {
      "cell_type": "code",
      "metadata": {
        "id": "Hcu59HuYUglQ",
        "colab_type": "code",
        "colab": {}
      },
      "source": [
        "#Distance ==0 means they didnt travel. so remove those records \n",
        "train=train.drop(train[train[\"Distance\"]==0].index,axis=0)"
      ],
      "execution_count": 0,
      "outputs": []
    },
    {
      "cell_type": "code",
      "metadata": {
        "id": "N7DNjJwPUmkX",
        "colab_type": "code",
        "outputId": "207bb7a5-2f78-43cb-813c-67703c90710d",
        "colab": {
          "base_uri": "https://localhost:8080/",
          "height": 34
        }
      },
      "source": [
        "train.shape"
      ],
      "execution_count": 50,
      "outputs": [
        {
          "output_type": "execute_result",
          "data": {
            "text/plain": [
              "(15426, 13)"
            ]
          },
          "metadata": {
            "tags": []
          },
          "execution_count": 50
        }
      ]
    },
    {
      "cell_type": "code",
      "metadata": {
        "id": "mkST4F60U8Xk",
        "colab_type": "code",
        "colab": {}
      },
      "source": [
        "#Convert data types into required format\n",
        "train[\"passenger_count\"]=train[\"passenger_count\"].astype('int64')\n",
        "train[\"year\"]=train[\"year\"].astype('int64')\n",
        "train[\"Month\"]=train[\"Month\"].astype('int64')\n",
        "train[\"Date\"]=train[\"Date\"].astype('int64')\n",
        "train[\"Day\"]=train[\"Day\"].astype('int64')\n",
        "train[\"Hour\"]=train[\"Hour\"].astype('int64')"
      ],
      "execution_count": 0,
      "outputs": []
    },
    {
      "cell_type": "code",
      "metadata": {
        "id": "Rmaxe77gVRWe",
        "colab_type": "code",
        "outputId": "1baf7be7-d2cd-4ec5-b1e5-a0df9d10ecae",
        "colab": {
          "base_uri": "https://localhost:8080/",
          "height": 255
        }
      },
      "source": [
        "train.dtypes"
      ],
      "execution_count": 52,
      "outputs": [
        {
          "output_type": "execute_result",
          "data": {
            "text/plain": [
              "fare_amount                      float64\n",
              "pickup_datetime      datetime64[ns, UTC]\n",
              "pickup_longitude                 float64\n",
              "pickup_latitude                  float64\n",
              "dropoff_longitude                float64\n",
              "dropoff_latitude                 float64\n",
              "passenger_count                    int64\n",
              "year                               int64\n",
              "Month                              int64\n",
              "Date                               int64\n",
              "Day                                int64\n",
              "Hour                               int64\n",
              "Distance                         float64\n",
              "dtype: object"
            ]
          },
          "metadata": {
            "tags": []
          },
          "execution_count": 52
        }
      ]
    },
    {
      "cell_type": "code",
      "metadata": {
        "id": "dq0F8vqBiRaV",
        "colab_type": "code",
        "colab": {}
      },
      "source": [
        "# Also calculates the distance in test dataset using pickup oand drop off location\n",
        "test[\"Distance\"]=test[['pickup_longitude', 'pickup_latitude','dropoff_longitude', 'dropoff_latitude']].apply(distance,axis=1)"
      ],
      "execution_count": 0,
      "outputs": []
    },
    {
      "cell_type": "code",
      "metadata": {
        "id": "OAagNscxjIww",
        "colab_type": "code",
        "colab": {
          "base_uri": "https://localhost:8080/",
          "height": 170
        },
        "outputId": "8b0bd3b2-fcbd-4b04-b3e5-407b0d48becd"
      },
      "source": [
        "test[\"Distance\"].describe()"
      ],
      "execution_count": 54,
      "outputs": [
        {
          "output_type": "execute_result",
          "data": {
            "text/plain": [
              "count    9914.000000\n",
              "mean        3.416373\n",
              "std         3.952447\n",
              "min         0.000000\n",
              "25%         1.291724\n",
              "50%         2.205209\n",
              "75%         4.021880\n",
              "max        99.482299\n",
              "Name: Distance, dtype: float64"
            ]
          },
          "metadata": {
            "tags": []
          },
          "execution_count": 54
        }
      ]
    },
    {
      "cell_type": "code",
      "metadata": {
        "id": "jZR2BxFVV5X-",
        "colab_type": "code",
        "colab": {}
      },
      "source": [
        "#Using this we can know the all countries borders latitudes and longitudes\n",
        "data = requests.get(\"https://raw.githubusercontent.com/datasets/geo-countries/master/data/countries.geojson\").json()\n",
        "\n",
        "countries = {}\n",
        "for feature in data[\"features\"]:\n",
        "    geom = feature[\"geometry\"]\n",
        "    country = feature[\"properties\"][\"ADMIN\"]\n",
        "    countries[country] = prep(shape(geom))"
      ],
      "execution_count": 0,
      "outputs": []
    },
    {
      "cell_type": "code",
      "metadata": {
        "id": "ewkiOcOIWIgX",
        "colab_type": "code",
        "colab": {}
      },
      "source": [
        "#This method helps to find country based on the latitude and longitude\n",
        "def get_country(a):\n",
        "  lon=a[0]\n",
        "  lat=a[1]\n",
        "  point = Point(lon, lat)\n",
        "  for country, geom in countries.items():\n",
        "    if geom.contains(point):\n",
        "      return country\n",
        "  return \"unknown\""
      ],
      "execution_count": 0,
      "outputs": []
    },
    {
      "cell_type": "code",
      "metadata": {
        "id": "XPmmgXGqWMee",
        "colab_type": "code",
        "colab": {}
      },
      "source": [
        "# Find the Country using latitude and longitude\n",
        "train[\"Country\"]=train[['pickup_longitude', 'pickup_latitude']].apply(get_country,axis=1)"
      ],
      "execution_count": 0,
      "outputs": []
    },
    {
      "cell_type": "code",
      "metadata": {
        "id": "fzcCQCBcWxqI",
        "colab_type": "code",
        "outputId": "50ddf2a6-1198-4bd6-dde9-830d3c0415fe",
        "colab": {
          "base_uri": "https://localhost:8080/",
          "height": 85
        }
      },
      "source": [
        "train[\"Country\"].value_counts()"
      ],
      "execution_count": 58,
      "outputs": [
        {
          "output_type": "execute_result",
          "data": {
            "text/plain": [
              "United States of America    14880\n",
              "unknown                       538\n",
              "Antarctica                      8\n",
              "Name: Country, dtype: int64"
            ]
          },
          "metadata": {
            "tags": []
          },
          "execution_count": 58
        }
      ]
    },
    {
      "cell_type": "markdown",
      "metadata": {
        "id": "KAx6_7gE6LRd",
        "colab_type": "text"
      },
      "source": [
        "Few latitudes and Longitudes are belongs to antarctca "
      ]
    },
    {
      "cell_type": "code",
      "metadata": {
        "id": "HKOQAA4PW577",
        "colab_type": "code",
        "outputId": "5604a033-a02f-4872-817f-fb546132e0aa",
        "colab": {
          "base_uri": "https://localhost:8080/",
          "height": 609
        }
      },
      "source": [
        "train[train[\"Country\"]=='unknown']"
      ],
      "execution_count": 59,
      "outputs": [
        {
          "output_type": "execute_result",
          "data": {
            "text/html": [
              "<div>\n",
              "<style scoped>\n",
              "    .dataframe tbody tr th:only-of-type {\n",
              "        vertical-align: middle;\n",
              "    }\n",
              "\n",
              "    .dataframe tbody tr th {\n",
              "        vertical-align: top;\n",
              "    }\n",
              "\n",
              "    .dataframe thead th {\n",
              "        text-align: right;\n",
              "    }\n",
              "</style>\n",
              "<table border=\"1\" class=\"dataframe\">\n",
              "  <thead>\n",
              "    <tr style=\"text-align: right;\">\n",
              "      <th></th>\n",
              "      <th>fare_amount</th>\n",
              "      <th>pickup_datetime</th>\n",
              "      <th>pickup_longitude</th>\n",
              "      <th>pickup_latitude</th>\n",
              "      <th>dropoff_longitude</th>\n",
              "      <th>dropoff_latitude</th>\n",
              "      <th>passenger_count</th>\n",
              "      <th>year</th>\n",
              "      <th>Month</th>\n",
              "      <th>Date</th>\n",
              "      <th>Day</th>\n",
              "      <th>Hour</th>\n",
              "      <th>Distance</th>\n",
              "      <th>Country</th>\n",
              "    </tr>\n",
              "  </thead>\n",
              "  <tbody>\n",
              "    <tr>\n",
              "      <th>1</th>\n",
              "      <td>16.9</td>\n",
              "      <td>2010-01-05 16:52:16+00:00</td>\n",
              "      <td>-74.016048</td>\n",
              "      <td>40.711303</td>\n",
              "      <td>-73.979268</td>\n",
              "      <td>40.782004</td>\n",
              "      <td>1</td>\n",
              "      <td>2010</td>\n",
              "      <td>1</td>\n",
              "      <td>5</td>\n",
              "      <td>1</td>\n",
              "      <td>16</td>\n",
              "      <td>8.394418</td>\n",
              "      <td>unknown</td>\n",
              "    </tr>\n",
              "    <tr>\n",
              "      <th>94</th>\n",
              "      <td>9.0</td>\n",
              "      <td>2013-01-09 14:42:00+00:00</td>\n",
              "      <td>-73.946852</td>\n",
              "      <td>40.775802</td>\n",
              "      <td>-73.964340</td>\n",
              "      <td>40.760703</td>\n",
              "      <td>1</td>\n",
              "      <td>2013</td>\n",
              "      <td>1</td>\n",
              "      <td>9</td>\n",
              "      <td>2</td>\n",
              "      <td>14</td>\n",
              "      <td>2.221192</td>\n",
              "      <td>unknown</td>\n",
              "    </tr>\n",
              "    <tr>\n",
              "      <th>135</th>\n",
              "      <td>11.5</td>\n",
              "      <td>2012-12-21 06:47:00+00:00</td>\n",
              "      <td>-73.947472</td>\n",
              "      <td>40.771227</td>\n",
              "      <td>-73.981832</td>\n",
              "      <td>40.760272</td>\n",
              "      <td>1</td>\n",
              "      <td>2012</td>\n",
              "      <td>12</td>\n",
              "      <td>21</td>\n",
              "      <td>4</td>\n",
              "      <td>6</td>\n",
              "      <td>3.127580</td>\n",
              "      <td>unknown</td>\n",
              "    </tr>\n",
              "    <tr>\n",
              "      <th>163</th>\n",
              "      <td>15.3</td>\n",
              "      <td>2011-06-12 13:33:00+00:00</td>\n",
              "      <td>-73.949477</td>\n",
              "      <td>40.768018</td>\n",
              "      <td>-74.003118</td>\n",
              "      <td>40.733022</td>\n",
              "      <td>5</td>\n",
              "      <td>2011</td>\n",
              "      <td>6</td>\n",
              "      <td>12</td>\n",
              "      <td>6</td>\n",
              "      <td>13</td>\n",
              "      <td>5.933985</td>\n",
              "      <td>unknown</td>\n",
              "    </tr>\n",
              "    <tr>\n",
              "      <th>187</th>\n",
              "      <td>17.0</td>\n",
              "      <td>2013-06-06 15:23:56+00:00</td>\n",
              "      <td>-73.954462</td>\n",
              "      <td>40.764046</td>\n",
              "      <td>-73.994593</td>\n",
              "      <td>40.729272</td>\n",
              "      <td>2</td>\n",
              "      <td>2013</td>\n",
              "      <td>6</td>\n",
              "      <td>6</td>\n",
              "      <td>3</td>\n",
              "      <td>15</td>\n",
              "      <td>5.108223</td>\n",
              "      <td>unknown</td>\n",
              "    </tr>\n",
              "    <tr>\n",
              "      <th>...</th>\n",
              "      <td>...</td>\n",
              "      <td>...</td>\n",
              "      <td>...</td>\n",
              "      <td>...</td>\n",
              "      <td>...</td>\n",
              "      <td>...</td>\n",
              "      <td>...</td>\n",
              "      <td>...</td>\n",
              "      <td>...</td>\n",
              "      <td>...</td>\n",
              "      <td>...</td>\n",
              "      <td>...</td>\n",
              "      <td>...</td>\n",
              "      <td>...</td>\n",
              "    </tr>\n",
              "    <tr>\n",
              "      <th>15932</th>\n",
              "      <td>19.3</td>\n",
              "      <td>2009-01-06 09:29:00+00:00</td>\n",
              "      <td>-74.015903</td>\n",
              "      <td>40.711410</td>\n",
              "      <td>-73.954777</td>\n",
              "      <td>40.765363</td>\n",
              "      <td>1</td>\n",
              "      <td>2009</td>\n",
              "      <td>1</td>\n",
              "      <td>6</td>\n",
              "      <td>1</td>\n",
              "      <td>9</td>\n",
              "      <td>7.863250</td>\n",
              "      <td>unknown</td>\n",
              "    </tr>\n",
              "    <tr>\n",
              "      <th>15978</th>\n",
              "      <td>8.9</td>\n",
              "      <td>2011-12-27 08:42:58+00:00</td>\n",
              "      <td>-73.946831</td>\n",
              "      <td>40.771804</td>\n",
              "      <td>-73.972704</td>\n",
              "      <td>40.764138</td>\n",
              "      <td>1</td>\n",
              "      <td>2011</td>\n",
              "      <td>12</td>\n",
              "      <td>27</td>\n",
              "      <td>1</td>\n",
              "      <td>8</td>\n",
              "      <td>2.330854</td>\n",
              "      <td>unknown</td>\n",
              "    </tr>\n",
              "    <tr>\n",
              "      <th>16002</th>\n",
              "      <td>4.5</td>\n",
              "      <td>2013-06-26 22:55:00+00:00</td>\n",
              "      <td>-74.004610</td>\n",
              "      <td>40.752242</td>\n",
              "      <td>-73.995920</td>\n",
              "      <td>40.748647</td>\n",
              "      <td>2</td>\n",
              "      <td>2013</td>\n",
              "      <td>6</td>\n",
              "      <td>26</td>\n",
              "      <td>2</td>\n",
              "      <td>22</td>\n",
              "      <td>0.830593</td>\n",
              "      <td>unknown</td>\n",
              "    </tr>\n",
              "    <tr>\n",
              "      <th>16024</th>\n",
              "      <td>12.5</td>\n",
              "      <td>2015-02-07 23:38:42+00:00</td>\n",
              "      <td>-73.949303</td>\n",
              "      <td>40.771721</td>\n",
              "      <td>-73.982971</td>\n",
              "      <td>40.767761</td>\n",
              "      <td>3</td>\n",
              "      <td>2015</td>\n",
              "      <td>2</td>\n",
              "      <td>7</td>\n",
              "      <td>5</td>\n",
              "      <td>23</td>\n",
              "      <td>2.859651</td>\n",
              "      <td>unknown</td>\n",
              "    </tr>\n",
              "    <tr>\n",
              "      <th>16029</th>\n",
              "      <td>17.3</td>\n",
              "      <td>2012-02-14 22:29:19+00:00</td>\n",
              "      <td>-73.966048</td>\n",
              "      <td>40.714522</td>\n",
              "      <td>-73.990265</td>\n",
              "      <td>40.757266</td>\n",
              "      <td>2</td>\n",
              "      <td>2012</td>\n",
              "      <td>2</td>\n",
              "      <td>14</td>\n",
              "      <td>1</td>\n",
              "      <td>22</td>\n",
              "      <td>5.138685</td>\n",
              "      <td>unknown</td>\n",
              "    </tr>\n",
              "  </tbody>\n",
              "</table>\n",
              "<p>538 rows × 14 columns</p>\n",
              "</div>"
            ],
            "text/plain": [
              "       fare_amount           pickup_datetime  ...  Distance  Country\n",
              "1             16.9 2010-01-05 16:52:16+00:00  ...  8.394418  unknown\n",
              "94             9.0 2013-01-09 14:42:00+00:00  ...  2.221192  unknown\n",
              "135           11.5 2012-12-21 06:47:00+00:00  ...  3.127580  unknown\n",
              "163           15.3 2011-06-12 13:33:00+00:00  ...  5.933985  unknown\n",
              "187           17.0 2013-06-06 15:23:56+00:00  ...  5.108223  unknown\n",
              "...            ...                       ...  ...       ...      ...\n",
              "15932         19.3 2009-01-06 09:29:00+00:00  ...  7.863250  unknown\n",
              "15978          8.9 2011-12-27 08:42:58+00:00  ...  2.330854  unknown\n",
              "16002          4.5 2013-06-26 22:55:00+00:00  ...  0.830593  unknown\n",
              "16024         12.5 2015-02-07 23:38:42+00:00  ...  2.859651  unknown\n",
              "16029         17.3 2012-02-14 22:29:19+00:00  ...  5.138685  unknown\n",
              "\n",
              "[538 rows x 14 columns]"
            ]
          },
          "metadata": {
            "tags": []
          },
          "execution_count": 59
        }
      ]
    },
    {
      "cell_type": "code",
      "metadata": {
        "id": "XsEFXAOqXFEe",
        "colab_type": "code",
        "colab": {}
      },
      "source": [
        "#Also find country in test dataset\n",
        "test[\"Country\"]=test[['pickup_longitude', 'pickup_latitude']].apply(get_country,axis=1)"
      ],
      "execution_count": 0,
      "outputs": []
    },
    {
      "cell_type": "code",
      "metadata": {
        "id": "5h6bFRS1kVqO",
        "colab_type": "code",
        "colab": {
          "base_uri": "https://localhost:8080/",
          "height": 68
        },
        "outputId": "21a1a6d5-8ee3-4790-9a38-5cbf47c2f1e4"
      },
      "source": [
        "test[\"Country\"].value_counts()"
      ],
      "execution_count": 61,
      "outputs": [
        {
          "output_type": "execute_result",
          "data": {
            "text/plain": [
              "United States of America    9601\n",
              "unknown                      313\n",
              "Name: Country, dtype: int64"
            ]
          },
          "metadata": {
            "tags": []
          },
          "execution_count": 61
        }
      ]
    },
    {
      "cell_type": "code",
      "metadata": {
        "id": "84NkABMbx129",
        "colab_type": "code",
        "colab": {
          "base_uri": "https://localhost:8080/",
          "height": 85
        },
        "outputId": "34328acb-61a4-466d-a2a9-fe4c658b6cdb"
      },
      "source": [
        "train[\"Country\"].value_counts()"
      ],
      "execution_count": 62,
      "outputs": [
        {
          "output_type": "execute_result",
          "data": {
            "text/plain": [
              "United States of America    14880\n",
              "unknown                       538\n",
              "Antarctica                      8\n",
              "Name: Country, dtype: int64"
            ]
          },
          "metadata": {
            "tags": []
          },
          "execution_count": 62
        }
      ]
    },
    {
      "cell_type": "markdown",
      "metadata": {
        "id": "2x7AFp77x9UO",
        "colab_type": "text"
      },
      "source": [
        "In test data there is no antarctica and we know there are no paved roads in antarctica. So we can remove those records"
      ]
    },
    {
      "cell_type": "code",
      "metadata": {
        "id": "-QRCjriHygiV",
        "colab_type": "code",
        "colab": {}
      },
      "source": [
        "train=train.drop(train[train[\"Country\"]==\"Antarctica\"].index,axis=0)"
      ],
      "execution_count": 0,
      "outputs": []
    },
    {
      "cell_type": "code",
      "metadata": {
        "id": "JekOIQDmXl8Q",
        "colab_type": "code",
        "colab": {}
      },
      "source": [
        "#Remove the columns which was not used now\n",
        "train=train.drop(['pickup_datetime','pickup_longitude', 'pickup_latitude','dropoff_longitude', 'dropoff_latitude'],axis=1)"
      ],
      "execution_count": 0,
      "outputs": []
    },
    {
      "cell_type": "code",
      "metadata": {
        "id": "0V9duAEZYFsF",
        "colab_type": "code",
        "outputId": "dd82fe21-fc0a-46a6-e0f6-5416bbc89891",
        "colab": {
          "base_uri": "https://localhost:8080/",
          "height": 204
        }
      },
      "source": [
        "train.head()"
      ],
      "execution_count": 65,
      "outputs": [
        {
          "output_type": "execute_result",
          "data": {
            "text/html": [
              "<div>\n",
              "<style scoped>\n",
              "    .dataframe tbody tr th:only-of-type {\n",
              "        vertical-align: middle;\n",
              "    }\n",
              "\n",
              "    .dataframe tbody tr th {\n",
              "        vertical-align: top;\n",
              "    }\n",
              "\n",
              "    .dataframe thead th {\n",
              "        text-align: right;\n",
              "    }\n",
              "</style>\n",
              "<table border=\"1\" class=\"dataframe\">\n",
              "  <thead>\n",
              "    <tr style=\"text-align: right;\">\n",
              "      <th></th>\n",
              "      <th>fare_amount</th>\n",
              "      <th>passenger_count</th>\n",
              "      <th>year</th>\n",
              "      <th>Month</th>\n",
              "      <th>Date</th>\n",
              "      <th>Day</th>\n",
              "      <th>Hour</th>\n",
              "      <th>Distance</th>\n",
              "      <th>Country</th>\n",
              "    </tr>\n",
              "  </thead>\n",
              "  <tbody>\n",
              "    <tr>\n",
              "      <th>0</th>\n",
              "      <td>4.5</td>\n",
              "      <td>1</td>\n",
              "      <td>2009</td>\n",
              "      <td>6</td>\n",
              "      <td>15</td>\n",
              "      <td>0</td>\n",
              "      <td>17</td>\n",
              "      <td>1.023623</td>\n",
              "      <td>United States of America</td>\n",
              "    </tr>\n",
              "    <tr>\n",
              "      <th>1</th>\n",
              "      <td>16.9</td>\n",
              "      <td>1</td>\n",
              "      <td>2010</td>\n",
              "      <td>1</td>\n",
              "      <td>5</td>\n",
              "      <td>1</td>\n",
              "      <td>16</td>\n",
              "      <td>8.394418</td>\n",
              "      <td>unknown</td>\n",
              "    </tr>\n",
              "    <tr>\n",
              "      <th>2</th>\n",
              "      <td>5.7</td>\n",
              "      <td>2</td>\n",
              "      <td>2011</td>\n",
              "      <td>8</td>\n",
              "      <td>18</td>\n",
              "      <td>3</td>\n",
              "      <td>0</td>\n",
              "      <td>1.381067</td>\n",
              "      <td>United States of America</td>\n",
              "    </tr>\n",
              "    <tr>\n",
              "      <th>3</th>\n",
              "      <td>7.7</td>\n",
              "      <td>1</td>\n",
              "      <td>2012</td>\n",
              "      <td>4</td>\n",
              "      <td>21</td>\n",
              "      <td>5</td>\n",
              "      <td>4</td>\n",
              "      <td>2.779557</td>\n",
              "      <td>United States of America</td>\n",
              "    </tr>\n",
              "    <tr>\n",
              "      <th>4</th>\n",
              "      <td>5.3</td>\n",
              "      <td>1</td>\n",
              "      <td>2010</td>\n",
              "      <td>3</td>\n",
              "      <td>9</td>\n",
              "      <td>1</td>\n",
              "      <td>7</td>\n",
              "      <td>1.986735</td>\n",
              "      <td>United States of America</td>\n",
              "    </tr>\n",
              "  </tbody>\n",
              "</table>\n",
              "</div>"
            ],
            "text/plain": [
              "   fare_amount  passenger_count  year  ...  Hour  Distance                   Country\n",
              "0          4.5                1  2009  ...    17  1.023623  United States of America\n",
              "1         16.9                1  2010  ...    16  8.394418                   unknown\n",
              "2          5.7                2  2011  ...     0  1.381067  United States of America\n",
              "3          7.7                1  2012  ...     4  2.779557  United States of America\n",
              "4          5.3                1  2010  ...     7  1.986735  United States of America\n",
              "\n",
              "[5 rows x 9 columns]"
            ]
          },
          "metadata": {
            "tags": []
          },
          "execution_count": 65
        }
      ]
    },
    {
      "cell_type": "code",
      "metadata": {
        "id": "dCHWkw0oknK9",
        "colab_type": "code",
        "colab": {}
      },
      "source": [
        "# Remove thr columns in test data also\n",
        "test=test.drop(['pickup_datetime','pickup_longitude', 'pickup_latitude','dropoff_longitude', 'dropoff_latitude'],axis=1)"
      ],
      "execution_count": 0,
      "outputs": []
    },
    {
      "cell_type": "code",
      "metadata": {
        "id": "JEqOP2g1k8yB",
        "colab_type": "code",
        "colab": {
          "base_uri": "https://localhost:8080/",
          "height": 204
        },
        "outputId": "b4cf6e41-0b1c-40b1-f1aa-1846b58a9123"
      },
      "source": [
        "test.head()"
      ],
      "execution_count": 67,
      "outputs": [
        {
          "output_type": "execute_result",
          "data": {
            "text/html": [
              "<div>\n",
              "<style scoped>\n",
              "    .dataframe tbody tr th:only-of-type {\n",
              "        vertical-align: middle;\n",
              "    }\n",
              "\n",
              "    .dataframe tbody tr th {\n",
              "        vertical-align: top;\n",
              "    }\n",
              "\n",
              "    .dataframe thead th {\n",
              "        text-align: right;\n",
              "    }\n",
              "</style>\n",
              "<table border=\"1\" class=\"dataframe\">\n",
              "  <thead>\n",
              "    <tr style=\"text-align: right;\">\n",
              "      <th></th>\n",
              "      <th>passenger_count</th>\n",
              "      <th>year</th>\n",
              "      <th>Month</th>\n",
              "      <th>Date</th>\n",
              "      <th>Day</th>\n",
              "      <th>Hour</th>\n",
              "      <th>Distance</th>\n",
              "      <th>Country</th>\n",
              "    </tr>\n",
              "  </thead>\n",
              "  <tbody>\n",
              "    <tr>\n",
              "      <th>0</th>\n",
              "      <td>1</td>\n",
              "      <td>2015</td>\n",
              "      <td>1</td>\n",
              "      <td>27</td>\n",
              "      <td>1</td>\n",
              "      <td>13</td>\n",
              "      <td>2.307515</td>\n",
              "      <td>United States of America</td>\n",
              "    </tr>\n",
              "    <tr>\n",
              "      <th>1</th>\n",
              "      <td>1</td>\n",
              "      <td>2015</td>\n",
              "      <td>1</td>\n",
              "      <td>27</td>\n",
              "      <td>1</td>\n",
              "      <td>13</td>\n",
              "      <td>2.409729</td>\n",
              "      <td>United States of America</td>\n",
              "    </tr>\n",
              "    <tr>\n",
              "      <th>2</th>\n",
              "      <td>1</td>\n",
              "      <td>2011</td>\n",
              "      <td>10</td>\n",
              "      <td>8</td>\n",
              "      <td>5</td>\n",
              "      <td>11</td>\n",
              "      <td>0.614593</td>\n",
              "      <td>United States of America</td>\n",
              "    </tr>\n",
              "    <tr>\n",
              "      <th>3</th>\n",
              "      <td>1</td>\n",
              "      <td>2012</td>\n",
              "      <td>12</td>\n",
              "      <td>1</td>\n",
              "      <td>5</td>\n",
              "      <td>21</td>\n",
              "      <td>1.948293</td>\n",
              "      <td>United States of America</td>\n",
              "    </tr>\n",
              "    <tr>\n",
              "      <th>4</th>\n",
              "      <td>1</td>\n",
              "      <td>2012</td>\n",
              "      <td>12</td>\n",
              "      <td>1</td>\n",
              "      <td>5</td>\n",
              "      <td>21</td>\n",
              "      <td>5.351580</td>\n",
              "      <td>United States of America</td>\n",
              "    </tr>\n",
              "  </tbody>\n",
              "</table>\n",
              "</div>"
            ],
            "text/plain": [
              "   passenger_count  year  Month  ...  Hour  Distance                   Country\n",
              "0                1  2015      1  ...    13  2.307515  United States of America\n",
              "1                1  2015      1  ...    13  2.409729  United States of America\n",
              "2                1  2011     10  ...    11  0.614593  United States of America\n",
              "3                1  2012     12  ...    21  1.948293  United States of America\n",
              "4                1  2012     12  ...    21  5.351580  United States of America\n",
              "\n",
              "[5 rows x 8 columns]"
            ]
          },
          "metadata": {
            "tags": []
          },
          "execution_count": 67
        }
      ]
    },
    {
      "cell_type": "markdown",
      "metadata": {
        "id": "ZGQBxK5am-0E",
        "colab_type": "text"
      },
      "source": [
        "# Data Visualization\n",
        "From this we know the features which affects the fare amount"
      ]
    },
    {
      "cell_type": "code",
      "metadata": {
        "id": "toqRat6S7wNQ",
        "colab_type": "code",
        "colab": {
          "base_uri": "https://localhost:8080/",
          "height": 297
        },
        "outputId": "a36ead9b-c118-432b-f827-51efe1411c0e"
      },
      "source": [
        "sns.distplot(train[\"passenger_count\"])"
      ],
      "execution_count": 68,
      "outputs": [
        {
          "output_type": "execute_result",
          "data": {
            "text/plain": [
              "<matplotlib.axes._subplots.AxesSubplot at 0x7efde3796b70>"
            ]
          },
          "metadata": {
            "tags": []
          },
          "execution_count": 68
        },
        {
          "output_type": "display_data",
          "data": {
            "image/png": "[encoded data removed]",
            "text/plain": [
              "<Figure size 432x288 with 1 Axes>"
            ]
          },
          "metadata": {
            "tags": []
          }
        }
      ]
    },
    {
      "cell_type": "code",
      "metadata": {
        "id": "QdaN59VVwGQv",
        "colab_type": "code",
        "colab": {
          "base_uri": "https://localhost:8080/",
          "height": 296
        },
        "outputId": "576941dd-b917-4d3d-b201-4c8e10dbf797"
      },
      "source": [
        "plt.scatter(train[\"passenger_count\"],train[\"fare_amount\"])\n",
        "plt.xlabel(\"Passengers Count\")\n",
        "plt.ylabel(\"Fare_amount\")"
      ],
      "execution_count": 69,
      "outputs": [
        {
          "output_type": "execute_result",
          "data": {
            "text/plain": [
              "Text(0, 0.5, 'Fare_amount')"
            ]
          },
          "metadata": {
            "tags": []
          },
          "execution_count": 69
        },
        {
          "output_type": "display_data",
          "data": {
            "image/png": "[encoded data removed]",
            "text/plain": [
              "<Figure size 432x288 with 1 Axes>"
            ]
          },
          "metadata": {
            "tags": []
          }
        }
      ]
    },
    {
      "cell_type": "markdown",
      "metadata": {
        "id": "ENbjIdiE7IIn",
        "colab_type": "text"
      },
      "source": [
        "Observation:\n",
        "From the above plot single and double passengers are travelled more frequently and the fare amount also high for single and double passengers"
      ]
    },
    {
      "cell_type": "code",
      "metadata": {
        "id": "1PR8aGYVwHOr",
        "colab_type": "code",
        "colab": {
          "base_uri": "https://localhost:8080/",
          "height": 296
        },
        "outputId": "942645a9-6874-465a-a68f-b18fd71ff98b"
      },
      "source": [
        "plt.scatter(train[\"Month\"],train[\"fare_amount\"])\n",
        "plt.xlabel(\"Month\")\n",
        "plt.ylabel(\"fare amount\")"
      ],
      "execution_count": 70,
      "outputs": [
        {
          "output_type": "execute_result",
          "data": {
            "text/plain": [
              "Text(0, 0.5, 'fare amount')"
            ]
          },
          "metadata": {
            "tags": []
          },
          "execution_count": 70
        },
        {
          "output_type": "display_data",
          "data": {
            "image/png": "[encoded data removed]",
            "text/plain": [
              "<Figure size 432x288 with 1 Axes>"
            ]
          },
          "metadata": {
            "tags": []
          }
        }
      ]
    },
    {
      "cell_type": "markdown",
      "metadata": {
        "id": "a9iy13uX8hC7",
        "colab_type": "text"
      },
      "source": [
        "The impact of fare on november is low"
      ]
    },
    {
      "cell_type": "code",
      "metadata": {
        "id": "Z6a-xMftz4Ua",
        "colab_type": "code",
        "colab": {
          "base_uri": "https://localhost:8080/",
          "height": 296
        },
        "outputId": "7261c0f5-957d-462d-9153-3041da9c31ff"
      },
      "source": [
        "plt.scatter(train[\"Hour\"],train[\"fare_amount\"])\n",
        "plt.xlabel(\"Hour\")\n",
        "plt.ylabel(\"fare amount\")"
      ],
      "execution_count": 71,
      "outputs": [
        {
          "output_type": "execute_result",
          "data": {
            "text/plain": [
              "Text(0, 0.5, 'fare amount')"
            ]
          },
          "metadata": {
            "tags": []
          },
          "execution_count": 71
        },
        {
          "output_type": "display_data",
          "data": {
            "image/png": "[encoded data removed]",
            "text/plain": [
              "<Figure size 432x288 with 1 Axes>"
            ]
          },
          "metadata": {
            "tags": []
          }
        }
      ]
    },
    {
      "cell_type": "markdown",
      "metadata": {
        "id": "_-csMMQN82oW",
        "colab_type": "text"
      },
      "source": [
        "Impact of fare on 7am and 14pm is high"
      ]
    },
    {
      "cell_type": "code",
      "metadata": {
        "id": "INmMEALb9RLF",
        "colab_type": "code",
        "colab": {
          "base_uri": "https://localhost:8080/",
          "height": 296
        },
        "outputId": "4f261903-ebdd-4bd5-8ef3-026220d3889b"
      },
      "source": [
        "plt.scatter(train[\"Day\"],train[\"fare_amount\"])\n",
        "plt.xlabel(\"Day\")\n",
        "plt.ylabel(\"Fare amount\")"
      ],
      "execution_count": 72,
      "outputs": [
        {
          "output_type": "execute_result",
          "data": {
            "text/plain": [
              "Text(0, 0.5, 'Fare amount')"
            ]
          },
          "metadata": {
            "tags": []
          },
          "execution_count": 72
        },
        {
          "output_type": "display_data",
          "data": {
            "image/png": "[encoded data removed]",
            "text/plain": [
              "<Figure size 432x288 with 1 Axes>"
            ]
          },
          "metadata": {
            "tags": []
          }
        }
      ]
    },
    {
      "cell_type": "code",
      "metadata": {
        "id": "fNimdZ420r6B",
        "colab_type": "code",
        "colab": {
          "base_uri": "https://localhost:8080/",
          "height": 361
        },
        "outputId": "403aabe5-4098-4e26-ff6f-18aae61f73e5"
      },
      "source": [
        "corr=train.corr()\n",
        "f,ax=plt.subplots()\n",
        "sns.heatmap(corr,mask=np.zeros_like(corr,dtype=np.bool),cmap=sns.diverging_palette(220,10,as_cmap=True),square=True,ax=ax)"
      ],
      "execution_count": 73,
      "outputs": [
        {
          "output_type": "execute_result",
          "data": {
            "text/plain": [
              "<matplotlib.axes._subplots.AxesSubplot at 0x7efddb673a20>"
            ]
          },
          "metadata": {
            "tags": []
          },
          "execution_count": 73
        },
        {
          "output_type": "display_data",
          "data": {
            "image/png": "[encoded data removed]",
            "text/plain": [
              "<Figure size 432x288 with 2 Axes>"
            ]
          },
          "metadata": {
            "tags": []
          }
        }
      ]
    },
    {
      "cell_type": "markdown",
      "metadata": {
        "id": "pmzROjGYj6uV",
        "colab_type": "text"
      },
      "source": [
        "# Feature Scaling"
      ]
    },
    {
      "cell_type": "code",
      "metadata": {
        "id": "zXpESF1CkGp6",
        "colab_type": "code",
        "colab": {
          "base_uri": "https://localhost:8080/",
          "height": 296
        },
        "outputId": "48f7fb51-12eb-46cb-f18e-52fd2a782e35"
      },
      "source": [
        "sns.distplot(train[\"Distance\"])"
      ],
      "execution_count": 74,
      "outputs": [
        {
          "output_type": "execute_result",
          "data": {
            "text/plain": [
              "<matplotlib.axes._subplots.AxesSubplot at 0x7efddb6cbc50>"
            ]
          },
          "metadata": {
            "tags": []
          },
          "execution_count": 74
        },
        {
          "output_type": "display_data",
          "data": {
            "image/png": "[encoded data removed]",
            "text/plain": [
              "<Figure size 432x288 with 1 Axes>"
            ]
          },
          "metadata": {
            "tags": []
          }
        }
      ]
    },
    {
      "cell_type": "markdown",
      "metadata": {
        "id": "SVEnt6O5kYeD",
        "colab_type": "text"
      },
      "source": [
        "Due to skewness is high apply log transform"
      ]
    },
    {
      "cell_type": "code",
      "metadata": {
        "id": "4T1dyd9rG_oL",
        "colab_type": "code",
        "colab": {}
      },
      "source": [
        "train['Distance'] = np.log1p(train['Distance'])"
      ],
      "execution_count": 0,
      "outputs": []
    },
    {
      "cell_type": "code",
      "metadata": {
        "id": "oSL97VrgxSB_",
        "colab_type": "code",
        "colab": {
          "base_uri": "https://localhost:8080/",
          "height": 296
        },
        "outputId": "32a8de43-cf57-485c-934b-d3e954dfe4b5"
      },
      "source": [
        "sns.distplot(train[\"Distance\"])"
      ],
      "execution_count": 76,
      "outputs": [
        {
          "output_type": "execute_result",
          "data": {
            "text/plain": [
              "<matplotlib.axes._subplots.AxesSubplot at 0x7efdda29f7b8>"
            ]
          },
          "metadata": {
            "tags": []
          },
          "execution_count": 76
        },
        {
          "output_type": "display_data",
          "data": {
            "image/png": "[encoded data removed]",
            "text/plain": [
              "<Figure size 432x288 with 1 Axes>"
            ]
          },
          "metadata": {
            "tags": []
          }
        }
      ]
    },
    {
      "cell_type": "code",
      "metadata": {
        "id": "WBw-YnwQHOS_",
        "colab_type": "code",
        "colab": {}
      },
      "source": [
        "test['Distance'] = np.log1p(test['Distance'])"
      ],
      "execution_count": 0,
      "outputs": []
    },
    {
      "cell_type": "markdown",
      "metadata": {
        "id": "fh95PEmPnJPC",
        "colab_type": "text"
      },
      "source": [
        "# Apply ML Algorithms"
      ]
    },
    {
      "cell_type": "code",
      "metadata": {
        "id": "A6P-npFkZeTz",
        "colab_type": "code",
        "colab": {}
      },
      "source": [
        "X=train.iloc[:,1:-1]\n",
        "Y=train.iloc[:,0]"
      ],
      "execution_count": 0,
      "outputs": []
    },
    {
      "cell_type": "code",
      "metadata": {
        "id": "om_DQE4eZMgj",
        "colab_type": "code",
        "colab": {
          "base_uri": "https://localhost:8080/",
          "height": 204
        },
        "outputId": "a46b07a1-8848-4a99-8cd2-3d6f3c47b290"
      },
      "source": [
        "X.head()"
      ],
      "execution_count": 79,
      "outputs": [
        {
          "output_type": "execute_result",
          "data": {
            "text/html": [
              "<div>\n",
              "<style scoped>\n",
              "    .dataframe tbody tr th:only-of-type {\n",
              "        vertical-align: middle;\n",
              "    }\n",
              "\n",
              "    .dataframe tbody tr th {\n",
              "        vertical-align: top;\n",
              "    }\n",
              "\n",
              "    .dataframe thead th {\n",
              "        text-align: right;\n",
              "    }\n",
              "</style>\n",
              "<table border=\"1\" class=\"dataframe\">\n",
              "  <thead>\n",
              "    <tr style=\"text-align: right;\">\n",
              "      <th></th>\n",
              "      <th>passenger_count</th>\n",
              "      <th>year</th>\n",
              "      <th>Month</th>\n",
              "      <th>Date</th>\n",
              "      <th>Day</th>\n",
              "      <th>Hour</th>\n",
              "      <th>Distance</th>\n",
              "    </tr>\n",
              "  </thead>\n",
              "  <tbody>\n",
              "    <tr>\n",
              "      <th>0</th>\n",
              "      <td>1</td>\n",
              "      <td>2009</td>\n",
              "      <td>6</td>\n",
              "      <td>15</td>\n",
              "      <td>0</td>\n",
              "      <td>17</td>\n",
              "      <td>0.704889</td>\n",
              "    </tr>\n",
              "    <tr>\n",
              "      <th>1</th>\n",
              "      <td>1</td>\n",
              "      <td>2010</td>\n",
              "      <td>1</td>\n",
              "      <td>5</td>\n",
              "      <td>1</td>\n",
              "      <td>16</td>\n",
              "      <td>2.240116</td>\n",
              "    </tr>\n",
              "    <tr>\n",
              "      <th>2</th>\n",
              "      <td>2</td>\n",
              "      <td>2011</td>\n",
              "      <td>8</td>\n",
              "      <td>18</td>\n",
              "      <td>3</td>\n",
              "      <td>0</td>\n",
              "      <td>0.867549</td>\n",
              "    </tr>\n",
              "    <tr>\n",
              "      <th>3</th>\n",
              "      <td>1</td>\n",
              "      <td>2012</td>\n",
              "      <td>4</td>\n",
              "      <td>21</td>\n",
              "      <td>5</td>\n",
              "      <td>4</td>\n",
              "      <td>1.329607</td>\n",
              "    </tr>\n",
              "    <tr>\n",
              "      <th>4</th>\n",
              "      <td>1</td>\n",
              "      <td>2010</td>\n",
              "      <td>3</td>\n",
              "      <td>9</td>\n",
              "      <td>1</td>\n",
              "      <td>7</td>\n",
              "      <td>1.094181</td>\n",
              "    </tr>\n",
              "  </tbody>\n",
              "</table>\n",
              "</div>"
            ],
            "text/plain": [
              "   passenger_count  year  Month  Date  Day  Hour  Distance\n",
              "0                1  2009      6    15    0    17  0.704889\n",
              "1                1  2010      1     5    1    16  2.240116\n",
              "2                2  2011      8    18    3     0  0.867549\n",
              "3                1  2012      4    21    5     4  1.329607\n",
              "4                1  2010      3     9    1     7  1.094181"
            ]
          },
          "metadata": {
            "tags": []
          },
          "execution_count": 79
        }
      ]
    },
    {
      "cell_type": "code",
      "metadata": {
        "id": "SgMIAEh_se2T",
        "colab_type": "code",
        "colab": {
          "base_uri": "https://localhost:8080/",
          "height": 119
        },
        "outputId": "341e944b-fb5e-46d0-fc3e-47a75f05f2d4"
      },
      "source": [
        "Y.head()"
      ],
      "execution_count": 80,
      "outputs": [
        {
          "output_type": "execute_result",
          "data": {
            "text/plain": [
              "0     4.5\n",
              "1    16.9\n",
              "2     5.7\n",
              "3     7.7\n",
              "4     5.3\n",
              "Name: fare_amount, dtype: float64"
            ]
          },
          "metadata": {
            "tags": []
          },
          "execution_count": 80
        }
      ]
    },
    {
      "cell_type": "code",
      "metadata": {
        "id": "SXeVrav4sjZp",
        "colab_type": "code",
        "colab": {}
      },
      "source": [
        "#split the date in training set and test set\n",
        "X_train,X_test,Y_train,Y_test=train_test_split(X,Y,test_size=0.2,random_state=234)"
      ],
      "execution_count": 0,
      "outputs": []
    },
    {
      "cell_type": "code",
      "metadata": {
        "id": "5z2gsKE7s8a_",
        "colab_type": "code",
        "colab": {
          "base_uri": "https://localhost:8080/",
          "height": 85
        },
        "outputId": "c4be959d-0e70-4485-b035-b021eebbe059"
      },
      "source": [
        "print(X_train.shape)\n",
        "print(X_test.shape)\n",
        "print(Y_train.shape)\n",
        "print(Y_test.shape)"
      ],
      "execution_count": 82,
      "outputs": [
        {
          "output_type": "stream",
          "text": [
            "(12334, 7)\n",
            "(3084, 7)\n",
            "(12334,)\n",
            "(3084,)\n"
          ],
          "name": "stdout"
        }
      ]
    },
    {
      "cell_type": "markdown",
      "metadata": {
        "id": "XfAIaFKt980E",
        "colab_type": "text"
      },
      "source": [
        "# Linear Regression"
      ]
    },
    {
      "cell_type": "code",
      "metadata": {
        "id": "MMThf0KcZf20",
        "colab_type": "code",
        "outputId": "d271c693-bed0-460f-81c7-baea07c27164",
        "colab": {
          "base_uri": "https://localhost:8080/",
          "height": 34
        }
      },
      "source": [
        "#Apply linear regression model on the training data\n",
        "lr=LinearRegression()\n",
        "lr.fit(X_train,Y_train)"
      ],
      "execution_count": 83,
      "outputs": [
        {
          "output_type": "execute_result",
          "data": {
            "text/plain": [
              "LinearRegression(copy_X=True, fit_intercept=True, n_jobs=None, normalize=False)"
            ]
          },
          "metadata": {
            "tags": []
          },
          "execution_count": 83
        }
      ]
    },
    {
      "cell_type": "code",
      "metadata": {
        "id": "q74EXwZns84w",
        "colab_type": "code",
        "colab": {}
      },
      "source": [
        "#prdict the test data on the developed model\n",
        "Y_pred=lr.predict(X_test)"
      ],
      "execution_count": 0,
      "outputs": []
    },
    {
      "cell_type": "code",
      "metadata": {
        "id": "3YnZ8XMefgtW",
        "colab_type": "code",
        "colab": {}
      },
      "source": [
        "#This model is designed to find accuracy\n",
        "def accuracy(Y_pred,Y):\n",
        "  x=np.sqrt(mean_squared_error(Y_pred, Y))\n",
        "  return x"
      ],
      "execution_count": 0,
      "outputs": []
    },
    {
      "cell_type": "code",
      "metadata": {
        "id": "VxpMg2V6ewsY",
        "colab_type": "code",
        "outputId": "b4655384-f954-4e50-859e-5fdcecd15a16",
        "colab": {
          "base_uri": "https://localhost:8080/",
          "height": 51
        }
      },
      "source": [
        "# RMS error of the model is\n",
        "print(\"Root mean squared error for training data    \"+str(accuracy(lr.predict(X_train),Y_train)))\n",
        "print(\"Root mean squared error for test data    \"+str(accuracy(Y_pred,Y_test)))"
      ],
      "execution_count": 86,
      "outputs": [
        {
          "output_type": "stream",
          "text": [
            "Root mean squared error for training data    8.88827981460319\n",
            "Root mean squared error for test data    5.926356077490776\n"
          ],
          "name": "stdout"
        }
      ]
    },
    {
      "cell_type": "markdown",
      "metadata": {
        "id": "N9PZ5RdYCc9V",
        "colab_type": "text"
      },
      "source": [
        "# Decision Tree"
      ]
    },
    {
      "cell_type": "code",
      "metadata": {
        "id": "ld6EbNt8eygI",
        "colab_type": "code",
        "outputId": "59b824e2-d149-4f30-f2fb-17195c735844",
        "colab": {
          "base_uri": "https://localhost:8080/",
          "height": 119
        }
      },
      "source": [
        "#Apply decision tree for the training data\n",
        "DTR=DecisionTreeRegressor()\n",
        "DTR.fit(X_train,Y_train)"
      ],
      "execution_count": 87,
      "outputs": [
        {
          "output_type": "execute_result",
          "data": {
            "text/plain": [
              "DecisionTreeRegressor(ccp_alpha=0.0, criterion='mse', max_depth=None,\n",
              "                      max_features=None, max_leaf_nodes=None,\n",
              "                      min_impurity_decrease=0.0, min_impurity_split=None,\n",
              "                      min_samples_leaf=1, min_samples_split=2,\n",
              "                      min_weight_fraction_leaf=0.0, presort='deprecated',\n",
              "                      random_state=None, splitter='best')"
            ]
          },
          "metadata": {
            "tags": []
          },
          "execution_count": 87
        }
      ]
    },
    {
      "cell_type": "code",
      "metadata": {
        "id": "kWChghZkfdd8",
        "colab_type": "code",
        "outputId": "be0bb507-7b83-4a99-9485-abbf68eec684",
        "colab": {
          "base_uri": "https://localhost:8080/",
          "height": 51
        }
      },
      "source": [
        "#Calculate RMSE of the model\n",
        "\n",
        "print(\"Root mean squared error for training data    \"+str(accuracy(DTR.predict(X_train),Y_train)))\n",
        "print(\"Root mean squared error for test data    \"+str(accuracy(DTR.predict(X_test),Y_test)))\n"
      ],
      "execution_count": 88,
      "outputs": [
        {
          "output_type": "stream",
          "text": [
            "Root mean squared error for training data    6.586810352697224e-16\n",
            "Root mean squared error for test data    6.010035112150897\n"
          ],
          "name": "stdout"
        }
      ]
    },
    {
      "cell_type": "markdown",
      "metadata": {
        "id": "Pw-tXXh6CkZd",
        "colab_type": "text"
      },
      "source": [
        "# KNN"
      ]
    },
    {
      "cell_type": "code",
      "metadata": {
        "id": "FTiRQTW7f0z0",
        "colab_type": "code",
        "colab": {}
      },
      "source": [
        "#Develop KNN for the training data\n",
        "neigh = KNeighborsRegressor()"
      ],
      "execution_count": 0,
      "outputs": []
    },
    {
      "cell_type": "code",
      "metadata": {
        "id": "Kpl4XgTCFHRb",
        "colab_type": "code",
        "colab": {
          "base_uri": "https://localhost:8080/",
          "height": 204
        },
        "outputId": "8399c66f-5fc6-45d6-adec-aec57efad3a1"
      },
      "source": [
        "#For Knn model find the best value for n_neighbors using grid search\n",
        "clf=GridSearchCV(neigh,{'n_neighbors':np.arange(2,30)})\n",
        "clf.fit(X_train,Y_train)"
      ],
      "execution_count": 90,
      "outputs": [
        {
          "output_type": "execute_result",
          "data": {
            "text/plain": [
              "GridSearchCV(cv=None, error_score=nan,\n",
              "             estimator=KNeighborsRegressor(algorithm='auto', leaf_size=30,\n",
              "                                           metric='minkowski',\n",
              "                                           metric_params=None, n_jobs=None,\n",
              "                                           n_neighbors=5, p=2,\n",
              "                                           weights='uniform'),\n",
              "             iid='deprecated', n_jobs=None,\n",
              "             param_grid={'n_neighbors': array([ 2,  3,  4,  5,  6,  7,  8,  9, 10, 11, 12, 13, 14, 15, 16, 17, 18,\n",
              "       19, 20, 21, 22, 23, 24, 25, 26, 27, 28, 29])},\n",
              "             pre_dispatch='2*n_jobs', refit=True, return_train_score=False,\n",
              "             scoring=None, verbose=0)"
            ]
          },
          "metadata": {
            "tags": []
          },
          "execution_count": 90
        }
      ]
    },
    {
      "cell_type": "code",
      "metadata": {
        "id": "FIXpINVyGiQg",
        "colab_type": "code",
        "colab": {
          "base_uri": "https://localhost:8080/",
          "height": 34
        },
        "outputId": "3f2a5715-15a9-4ec0-bc64-ae4663a39d2f"
      },
      "source": [
        "#print best value for n_neighbors\n",
        "print(clf.best_params_)"
      ],
      "execution_count": 91,
      "outputs": [
        {
          "output_type": "stream",
          "text": [
            "{'n_neighbors': 18}\n"
          ],
          "name": "stdout"
        }
      ]
    },
    {
      "cell_type": "code",
      "metadata": {
        "id": "RApI-oHYIvRd",
        "colab_type": "code",
        "colab": {
          "base_uri": "https://localhost:8080/",
          "height": 68
        },
        "outputId": "9ff21448-e0ce-42a1-9ed9-fc756511bfa8"
      },
      "source": [
        "neigh = KNeighborsRegressor(n_neighbors=23)\n",
        "neigh.fit(X_train, Y_train)"
      ],
      "execution_count": 92,
      "outputs": [
        {
          "output_type": "execute_result",
          "data": {
            "text/plain": [
              "KNeighborsRegressor(algorithm='auto', leaf_size=30, metric='minkowski',\n",
              "                    metric_params=None, n_jobs=None, n_neighbors=23, p=2,\n",
              "                    weights='uniform')"
            ]
          },
          "metadata": {
            "tags": []
          },
          "execution_count": 92
        }
      ]
    },
    {
      "cell_type": "code",
      "metadata": {
        "id": "U19MrvYKgGVX",
        "colab_type": "code",
        "outputId": "f39f50b0-09ee-405e-cade-187b7bf8a20c",
        "colab": {
          "base_uri": "https://localhost:8080/",
          "height": 51
        }
      },
      "source": [
        "print(\"Root mean squared error for training data    \"+str(accuracy(neigh.predict(X_train),Y_train)))\n",
        "print(\"Root mean squared error for test data    \"+str(accuracy(neigh.predict(X_test),Y_test)))"
      ],
      "execution_count": 93,
      "outputs": [
        {
          "output_type": "stream",
          "text": [
            "Root mean squared error for training data    10.505428972960413\n",
            "Root mean squared error for test data    8.763256589457352\n"
          ],
          "name": "stdout"
        }
      ]
    },
    {
      "cell_type": "markdown",
      "metadata": {
        "id": "biOIJ4cUCsIv",
        "colab_type": "text"
      },
      "source": [
        "# Random Forest Regressor"
      ]
    },
    {
      "cell_type": "code",
      "metadata": {
        "id": "4D7lEZxtgNh8",
        "colab_type": "code",
        "colab": {}
      },
      "source": [
        "#Apply Random Forest model on the training data \n",
        "rf = RandomForestRegressor(random_state=0)"
      ],
      "execution_count": 0,
      "outputs": []
    },
    {
      "cell_type": "code",
      "metadata": {
        "id": "656CxX06I2R2",
        "colab_type": "code",
        "colab": {
          "base_uri": "https://localhost:8080/",
          "height": 340
        },
        "outputId": "873898b0-af80-4881-c59e-f4a0f024d107"
      },
      "source": [
        "#Find the best values for n_estimators and mox_depth using grid search cros-validation\n",
        "clf=GridSearchCV(rf,{'n_estimators':[70,80,90,100,110,120,130],'max_depth':[2,4,6,8,10]})\n",
        "clf.fit(X_train,Y_train)"
      ],
      "execution_count": 95,
      "outputs": [
        {
          "output_type": "execute_result",
          "data": {
            "text/plain": [
              "GridSearchCV(cv=None, error_score=nan,\n",
              "             estimator=RandomForestRegressor(bootstrap=True, ccp_alpha=0.0,\n",
              "                                             criterion='mse', max_depth=None,\n",
              "                                             max_features='auto',\n",
              "                                             max_leaf_nodes=None,\n",
              "                                             max_samples=None,\n",
              "                                             min_impurity_decrease=0.0,\n",
              "                                             min_impurity_split=None,\n",
              "                                             min_samples_leaf=1,\n",
              "                                             min_samples_split=2,\n",
              "                                             min_weight_fraction_leaf=0.0,\n",
              "                                             n_estimators=100, n_jobs=None,\n",
              "                                             oob_score=False, random_state=0,\n",
              "                                             verbose=0, warm_start=False),\n",
              "             iid='deprecated', n_jobs=None,\n",
              "             param_grid={'max_depth': [2, 4, 6, 8, 10],\n",
              "                         'n_estimators': [70, 80, 90, 100, 110, 120, 130]},\n",
              "             pre_dispatch='2*n_jobs', refit=True, return_train_score=False,\n",
              "             scoring=None, verbose=0)"
            ]
          },
          "metadata": {
            "tags": []
          },
          "execution_count": 95
        }
      ]
    },
    {
      "cell_type": "code",
      "metadata": {
        "id": "VRKNKRNSNCA0",
        "colab_type": "code",
        "colab": {
          "base_uri": "https://localhost:8080/",
          "height": 34
        },
        "outputId": "c959d95f-78ff-4f57-f75c-fbc688fb06fd"
      },
      "source": [
        "#print best parameters\n",
        "print(clf.best_params_)"
      ],
      "execution_count": 96,
      "outputs": [
        {
          "output_type": "stream",
          "text": [
            "{'max_depth': 4, 'n_estimators': 100}\n"
          ],
          "name": "stdout"
        }
      ]
    },
    {
      "cell_type": "code",
      "metadata": {
        "id": "vAL16HV5NK46",
        "colab_type": "code",
        "colab": {
          "base_uri": "https://localhost:8080/",
          "height": 136
        },
        "outputId": "f60a2340-5e16-42b4-cf23-5c33d87db7ce"
      },
      "source": [
        "# Develop the model with best parameters obtained\n",
        "rf = RandomForestRegressor(n_estimators=80,max_depth=4,random_state=0)\n",
        "rf.fit(X_train,Y_train)"
      ],
      "execution_count": 97,
      "outputs": [
        {
          "output_type": "execute_result",
          "data": {
            "text/plain": [
              "RandomForestRegressor(bootstrap=True, ccp_alpha=0.0, criterion='mse',\n",
              "                      max_depth=4, max_features='auto', max_leaf_nodes=None,\n",
              "                      max_samples=None, min_impurity_decrease=0.0,\n",
              "                      min_impurity_split=None, min_samples_leaf=1,\n",
              "                      min_samples_split=2, min_weight_fraction_leaf=0.0,\n",
              "                      n_estimators=80, n_jobs=None, oob_score=False,\n",
              "                      random_state=0, verbose=0, warm_start=False)"
            ]
          },
          "metadata": {
            "tags": []
          },
          "execution_count": 97
        }
      ]
    },
    {
      "cell_type": "code",
      "metadata": {
        "id": "tzj_2lf_g2yk",
        "colab_type": "code",
        "outputId": "a8736591-b53f-4fff-d97d-645c4db6f595",
        "colab": {
          "base_uri": "https://localhost:8080/",
          "height": 51
        }
      },
      "source": [
        "#RMSE of the random forest mode\n",
        "print(\"Root mean squared error for training data    \"+str(accuracy(rf.predict(X_train),Y_train)))\n",
        "print(\"Root mean squared error for test data    \"+str(accuracy(rf.predict(X_test),Y_test)))"
      ],
      "execution_count": 98,
      "outputs": [
        {
          "output_type": "stream",
          "text": [
            "Root mean squared error for training data    7.598396803505752\n",
            "Root mean squared error for test data    4.589958981203051\n"
          ],
          "name": "stdout"
        }
      ]
    },
    {
      "cell_type": "code",
      "metadata": {
        "id": "2WGRjVe8gyJp",
        "colab_type": "code",
        "colab": {
          "base_uri": "https://localhost:8080/",
          "height": 306
        },
        "outputId": "3738e12c-34ea-47c7-96c1-5ea025a1adb1"
      },
      "source": [
        "print(rf.predict(X_train)[:5])\n",
        "print(Y_train.iloc[:5])\n",
        "print(train.iloc[8882])"
      ],
      "execution_count": 99,
      "outputs": [
        {
          "output_type": "stream",
          "text": [
            "[ 9.55835537  6.25232098 23.45904659  8.59005673  6.23520693]\n",
            "9766      7.0\n",
            "284       4.9\n",
            "12610    21.7\n",
            "940       7.7\n",
            "3506      4.1\n",
            "Name: fare_amount, dtype: float64\n",
            "fare_amount                             3.5\n",
            "passenger_count                           1\n",
            "year                                   2013\n",
            "Month                                    12\n",
            "Date                                     25\n",
            "Day                                       2\n",
            "Hour                                     17\n",
            "Distance                           0.360448\n",
            "Country            United States of America\n",
            "Name: 9296, dtype: object\n"
          ],
          "name": "stdout"
        }
      ]
    },
    {
      "cell_type": "markdown",
      "metadata": {
        "id": "fRMiu2ke1cpj",
        "colab_type": "text"
      },
      "source": [
        "# Predict of fare from given test dataset"
      ]
    },
    {
      "cell_type": "code",
      "metadata": {
        "id": "wW7IPXnaq8-6",
        "colab_type": "code",
        "colab": {}
      },
      "source": [
        "test_main=test.iloc[:,0:-1]"
      ],
      "execution_count": 0,
      "outputs": []
    },
    {
      "cell_type": "code",
      "metadata": {
        "id": "FO9yBHq76uf9",
        "colab_type": "code",
        "colab": {
          "base_uri": "https://localhost:8080/",
          "height": 204
        },
        "outputId": "eaa8d2c8-47e1-4748-d97b-a523ba47560c"
      },
      "source": [
        "test_main.head()"
      ],
      "execution_count": 101,
      "outputs": [
        {
          "output_type": "execute_result",
          "data": {
            "text/html": [
              "<div>\n",
              "<style scoped>\n",
              "    .dataframe tbody tr th:only-of-type {\n",
              "        vertical-align: middle;\n",
              "    }\n",
              "\n",
              "    .dataframe tbody tr th {\n",
              "        vertical-align: top;\n",
              "    }\n",
              "\n",
              "    .dataframe thead th {\n",
              "        text-align: right;\n",
              "    }\n",
              "</style>\n",
              "<table border=\"1\" class=\"dataframe\">\n",
              "  <thead>\n",
              "    <tr style=\"text-align: right;\">\n",
              "      <th></th>\n",
              "      <th>passenger_count</th>\n",
              "      <th>year</th>\n",
              "      <th>Month</th>\n",
              "      <th>Date</th>\n",
              "      <th>Day</th>\n",
              "      <th>Hour</th>\n",
              "      <th>Distance</th>\n",
              "    </tr>\n",
              "  </thead>\n",
              "  <tbody>\n",
              "    <tr>\n",
              "      <th>0</th>\n",
              "      <td>1</td>\n",
              "      <td>2015</td>\n",
              "      <td>1</td>\n",
              "      <td>27</td>\n",
              "      <td>1</td>\n",
              "      <td>13</td>\n",
              "      <td>1.196197</td>\n",
              "    </tr>\n",
              "    <tr>\n",
              "      <th>1</th>\n",
              "      <td>1</td>\n",
              "      <td>2015</td>\n",
              "      <td>1</td>\n",
              "      <td>27</td>\n",
              "      <td>1</td>\n",
              "      <td>13</td>\n",
              "      <td>1.226633</td>\n",
              "    </tr>\n",
              "    <tr>\n",
              "      <th>2</th>\n",
              "      <td>1</td>\n",
              "      <td>2011</td>\n",
              "      <td>10</td>\n",
              "      <td>8</td>\n",
              "      <td>5</td>\n",
              "      <td>11</td>\n",
              "      <td>0.479083</td>\n",
              "    </tr>\n",
              "    <tr>\n",
              "      <th>3</th>\n",
              "      <td>1</td>\n",
              "      <td>2012</td>\n",
              "      <td>12</td>\n",
              "      <td>1</td>\n",
              "      <td>5</td>\n",
              "      <td>21</td>\n",
              "      <td>1.081226</td>\n",
              "    </tr>\n",
              "    <tr>\n",
              "      <th>4</th>\n",
              "      <td>1</td>\n",
              "      <td>2012</td>\n",
              "      <td>12</td>\n",
              "      <td>1</td>\n",
              "      <td>5</td>\n",
              "      <td>21</td>\n",
              "      <td>1.848704</td>\n",
              "    </tr>\n",
              "  </tbody>\n",
              "</table>\n",
              "</div>"
            ],
            "text/plain": [
              "   passenger_count  year  Month  Date  Day  Hour  Distance\n",
              "0                1  2015      1    27    1    13  1.196197\n",
              "1                1  2015      1    27    1    13  1.226633\n",
              "2                1  2011     10     8    5    11  0.479083\n",
              "3                1  2012     12     1    5    21  1.081226\n",
              "4                1  2012     12     1    5    21  1.848704"
            ]
          },
          "metadata": {
            "tags": []
          },
          "execution_count": 101
        }
      ]
    },
    {
      "cell_type": "markdown",
      "metadata": {
        "id": "xRptMSPxyiZ2",
        "colab_type": "text"
      },
      "source": [
        "We apply random forest for the final model because it has low error compare to linear regression, Decision Trees,KNN regressor"
      ]
    },
    {
      "cell_type": "code",
      "metadata": {
        "id": "tEKOj6pp68Tk",
        "colab_type": "code",
        "colab": {}
      },
      "source": [
        "#predict values for final dataset\n",
        "rf = RandomForestRegressor(random_state=0)\n",
        "clf=GridSearchCV(rf,{'n_estimators':[70,80,90,100,110,120],'max_depth':[2,4,6,8,10]})\n",
        "clf.fit(X_train,Y_train)\n",
        "clf.best_params_\n",
        "rf = RandomForestRegressor(n_estimators=clf.best_params_['n_estimators'],max_depth=clf.best_params_['max_depth'],random_state=0)\n",
        "rf.fit(X_train,Y_train)\n",
        "final_predict=rf.predict(test_main)"
      ],
      "execution_count": 0,
      "outputs": []
    },
    {
      "cell_type": "code",
      "metadata": {
        "id": "sHAtn6Vo7R2P",
        "colab_type": "code",
        "colab": {}
      },
      "source": [
        "test['fare_amount']=final_predict"
      ],
      "execution_count": 0,
      "outputs": []
    },
    {
      "cell_type": "code",
      "metadata": {
        "id": "U4olkf_WNx2O",
        "colab_type": "code",
        "colab": {
          "base_uri": "https://localhost:8080/",
          "height": 204
        },
        "outputId": "67fc4f45-e150-472b-cf21-a9bf6c095c58"
      },
      "source": [
        "test.head()"
      ],
      "execution_count": 104,
      "outputs": [
        {
          "output_type": "execute_result",
          "data": {
            "text/html": [
              "<div>\n",
              "<style scoped>\n",
              "    .dataframe tbody tr th:only-of-type {\n",
              "        vertical-align: middle;\n",
              "    }\n",
              "\n",
              "    .dataframe tbody tr th {\n",
              "        vertical-align: top;\n",
              "    }\n",
              "\n",
              "    .dataframe thead th {\n",
              "        text-align: right;\n",
              "    }\n",
              "</style>\n",
              "<table border=\"1\" class=\"dataframe\">\n",
              "  <thead>\n",
              "    <tr style=\"text-align: right;\">\n",
              "      <th></th>\n",
              "      <th>passenger_count</th>\n",
              "      <th>year</th>\n",
              "      <th>Month</th>\n",
              "      <th>Date</th>\n",
              "      <th>Day</th>\n",
              "      <th>Hour</th>\n",
              "      <th>Distance</th>\n",
              "      <th>Country</th>\n",
              "      <th>fare_amount</th>\n",
              "    </tr>\n",
              "  </thead>\n",
              "  <tbody>\n",
              "    <tr>\n",
              "      <th>0</th>\n",
              "      <td>1</td>\n",
              "      <td>2015</td>\n",
              "      <td>1</td>\n",
              "      <td>27</td>\n",
              "      <td>1</td>\n",
              "      <td>13</td>\n",
              "      <td>1.196197</td>\n",
              "      <td>United States of America</td>\n",
              "      <td>9.042109</td>\n",
              "    </tr>\n",
              "    <tr>\n",
              "      <th>1</th>\n",
              "      <td>1</td>\n",
              "      <td>2015</td>\n",
              "      <td>1</td>\n",
              "      <td>27</td>\n",
              "      <td>1</td>\n",
              "      <td>13</td>\n",
              "      <td>1.226633</td>\n",
              "      <td>United States of America</td>\n",
              "      <td>9.129985</td>\n",
              "    </tr>\n",
              "    <tr>\n",
              "      <th>2</th>\n",
              "      <td>1</td>\n",
              "      <td>2011</td>\n",
              "      <td>10</td>\n",
              "      <td>8</td>\n",
              "      <td>5</td>\n",
              "      <td>11</td>\n",
              "      <td>0.479083</td>\n",
              "      <td>United States of America</td>\n",
              "      <td>6.248759</td>\n",
              "    </tr>\n",
              "    <tr>\n",
              "      <th>3</th>\n",
              "      <td>1</td>\n",
              "      <td>2012</td>\n",
              "      <td>12</td>\n",
              "      <td>1</td>\n",
              "      <td>5</td>\n",
              "      <td>21</td>\n",
              "      <td>1.081226</td>\n",
              "      <td>United States of America</td>\n",
              "      <td>9.042298</td>\n",
              "    </tr>\n",
              "    <tr>\n",
              "      <th>4</th>\n",
              "      <td>1</td>\n",
              "      <td>2012</td>\n",
              "      <td>12</td>\n",
              "      <td>1</td>\n",
              "      <td>5</td>\n",
              "      <td>21</td>\n",
              "      <td>1.848704</td>\n",
              "      <td>United States of America</td>\n",
              "      <td>14.581767</td>\n",
              "    </tr>\n",
              "  </tbody>\n",
              "</table>\n",
              "</div>"
            ],
            "text/plain": [
              "   passenger_count  year  ...                   Country  fare_amount\n",
              "0                1  2015  ...  United States of America     9.042109\n",
              "1                1  2015  ...  United States of America     9.129985\n",
              "2                1  2011  ...  United States of America     6.248759\n",
              "3                1  2012  ...  United States of America     9.042298\n",
              "4                1  2012  ...  United States of America    14.581767\n",
              "\n",
              "[5 rows x 9 columns]"
            ]
          },
          "metadata": {
            "tags": []
          },
          "execution_count": 104
        }
      ]
    },
    {
      "cell_type": "code",
      "metadata": {
        "id": "QmtstaXX3rJ8",
        "colab_type": "code",
        "colab": {}
      },
      "source": [
        "test.to_csv(\"test.csv\",index=False)"
      ],
      "execution_count": 0,
      "outputs": []
    },
    {
      "cell_type": "code",
      "metadata": {
        "id": "beLnUuI44AP9",
        "colab_type": "code",
        "colab": {}
      },
      "source": [
        "fg=pd.read_csv(\"/content/test.csv\")"
      ],
      "execution_count": 0,
      "outputs": []
    },
    {
      "cell_type": "code",
      "metadata": {
        "id": "vxMwhrIrmT0_",
        "colab_type": "code",
        "colab": {
          "base_uri": "https://localhost:8080/",
          "height": 204
        },
        "outputId": "aa05996d-8620-4336-ad45-fce8dccbfc3f"
      },
      "source": [
        "fg.head()"
      ],
      "execution_count": 107,
      "outputs": [
        {
          "output_type": "execute_result",
          "data": {
            "text/html": [
              "<div>\n",
              "<style scoped>\n",
              "    .dataframe tbody tr th:only-of-type {\n",
              "        vertical-align: middle;\n",
              "    }\n",
              "\n",
              "    .dataframe tbody tr th {\n",
              "        vertical-align: top;\n",
              "    }\n",
              "\n",
              "    .dataframe thead th {\n",
              "        text-align: right;\n",
              "    }\n",
              "</style>\n",
              "<table border=\"1\" class=\"dataframe\">\n",
              "  <thead>\n",
              "    <tr style=\"text-align: right;\">\n",
              "      <th></th>\n",
              "      <th>passenger_count</th>\n",
              "      <th>year</th>\n",
              "      <th>Month</th>\n",
              "      <th>Date</th>\n",
              "      <th>Day</th>\n",
              "      <th>Hour</th>\n",
              "      <th>Distance</th>\n",
              "      <th>Country</th>\n",
              "      <th>fare_amount</th>\n",
              "    </tr>\n",
              "  </thead>\n",
              "  <tbody>\n",
              "    <tr>\n",
              "      <th>0</th>\n",
              "      <td>1</td>\n",
              "      <td>2015</td>\n",
              "      <td>1</td>\n",
              "      <td>27</td>\n",
              "      <td>1</td>\n",
              "      <td>13</td>\n",
              "      <td>1.196197</td>\n",
              "      <td>United States of America</td>\n",
              "      <td>9.042109</td>\n",
              "    </tr>\n",
              "    <tr>\n",
              "      <th>1</th>\n",
              "      <td>1</td>\n",
              "      <td>2015</td>\n",
              "      <td>1</td>\n",
              "      <td>27</td>\n",
              "      <td>1</td>\n",
              "      <td>13</td>\n",
              "      <td>1.226633</td>\n",
              "      <td>United States of America</td>\n",
              "      <td>9.129985</td>\n",
              "    </tr>\n",
              "    <tr>\n",
              "      <th>2</th>\n",
              "      <td>1</td>\n",
              "      <td>2011</td>\n",
              "      <td>10</td>\n",
              "      <td>8</td>\n",
              "      <td>5</td>\n",
              "      <td>11</td>\n",
              "      <td>0.479083</td>\n",
              "      <td>United States of America</td>\n",
              "      <td>6.248759</td>\n",
              "    </tr>\n",
              "    <tr>\n",
              "      <th>3</th>\n",
              "      <td>1</td>\n",
              "      <td>2012</td>\n",
              "      <td>12</td>\n",
              "      <td>1</td>\n",
              "      <td>5</td>\n",
              "      <td>21</td>\n",
              "      <td>1.081226</td>\n",
              "      <td>United States of America</td>\n",
              "      <td>9.042298</td>\n",
              "    </tr>\n",
              "    <tr>\n",
              "      <th>4</th>\n",
              "      <td>1</td>\n",
              "      <td>2012</td>\n",
              "      <td>12</td>\n",
              "      <td>1</td>\n",
              "      <td>5</td>\n",
              "      <td>21</td>\n",
              "      <td>1.848704</td>\n",
              "      <td>United States of America</td>\n",
              "      <td>14.581767</td>\n",
              "    </tr>\n",
              "  </tbody>\n",
              "</table>\n",
              "</div>"
            ],
            "text/plain": [
              "   passenger_count  year  ...                   Country  fare_amount\n",
              "0                1  2015  ...  United States of America     9.042109\n",
              "1                1  2015  ...  United States of America     9.129985\n",
              "2                1  2011  ...  United States of America     6.248759\n",
              "3                1  2012  ...  United States of America     9.042298\n",
              "4                1  2012  ...  United States of America    14.581767\n",
              "\n",
              "[5 rows x 9 columns]"
            ]
          },
          "metadata": {
            "tags": []
          },
          "execution_count": 107
        }
      ]
    },
    {
      "cell_type": "code",
      "metadata": {
        "id": "tGpAOmVxD7yw",
        "colab_type": "code",
        "colab": {}
      },
      "source": [
        ""
      ],
      "execution_count": 0,
      "outputs": []
    }
  ]
}